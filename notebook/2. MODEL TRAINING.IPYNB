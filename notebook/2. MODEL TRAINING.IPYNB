{
 "cells": [
  {
   "cell_type": "markdown",
   "metadata": {},
   "source": [
    "# Model Training"
   ]
  },
  {
   "cell_type": "markdown",
   "metadata": {},
   "source": [
    "* Importing Libraries"
   ]
  },
  {
   "cell_type": "code",
   "execution_count": 329,
   "metadata": {},
   "outputs": [],
   "source": [
    "import pandas as pd\n",
    "import numpy as np\n",
    "import matplotlib.pyplot as plt\n",
    "import seaborn as sns\n",
    "from sklearn.preprocessing import LabelEncoder\n",
    "from sklearn.preprocessing import StandardScaler\n",
    "from sklearn.model_selection import train_test_split\n",
    "from sklearn.metrics import accuracy_score, precision_score, recall_score, f1_score\n",
    "from sklearn.neighbors import KNeighborsClassifier\n",
    "from sklearn.tree import DecisionTreeClassifier\n",
    "from sklearn.ensemble import RandomForestClassifier,GradientBoostingClassifier\n",
    "from sklearn.svm import SVC\n",
    "from sklearn.linear_model import LogisticRegression\n",
    "from sklearn.model_selection import GridSearchCV, RandomizedSearchCV\n",
    "from sklearn.pipeline import Pipeline\n",
    "import warnings"
   ]
  },
  {
   "cell_type": "markdown",
   "metadata": {},
   "source": [
    "* Import the CSV Data as Pandas DataFrame"
   ]
  },
  {
   "cell_type": "code",
   "execution_count": 330,
   "metadata": {},
   "outputs": [],
   "source": [
    "df = pd.read_csv('DATA/processed_data.csv')"
   ]
  },
  {
   "cell_type": "markdown",
   "metadata": {},
   "source": [
    "* Show Top 5 Records"
   ]
  },
  {
   "cell_type": "code",
   "execution_count": 331,
   "metadata": {},
   "outputs": [
    {
     "data": {
      "text/html": [
       "<div>\n",
       "<style scoped>\n",
       "    .dataframe tbody tr th:only-of-type {\n",
       "        vertical-align: middle;\n",
       "    }\n",
       "\n",
       "    .dataframe tbody tr th {\n",
       "        vertical-align: top;\n",
       "    }\n",
       "\n",
       "    .dataframe thead th {\n",
       "        text-align: right;\n",
       "    }\n",
       "</style>\n",
       "<table border=\"1\" class=\"dataframe\">\n",
       "  <thead>\n",
       "    <tr style=\"text-align: right;\">\n",
       "      <th></th>\n",
       "      <th>Person ID</th>\n",
       "      <th>Gender</th>\n",
       "      <th>Age</th>\n",
       "      <th>Occupation</th>\n",
       "      <th>Sleep Duration</th>\n",
       "      <th>Quality of Sleep</th>\n",
       "      <th>Physical Activity Level</th>\n",
       "      <th>Stress Level</th>\n",
       "      <th>BMI Category</th>\n",
       "      <th>Heart Rate</th>\n",
       "      <th>Daily Steps</th>\n",
       "      <th>Sleep Disorder</th>\n",
       "      <th>High_BP</th>\n",
       "      <th>Low_BP</th>\n",
       "    </tr>\n",
       "  </thead>\n",
       "  <tbody>\n",
       "    <tr>\n",
       "      <th>0</th>\n",
       "      <td>1</td>\n",
       "      <td>Male</td>\n",
       "      <td>27</td>\n",
       "      <td>Software Engineer</td>\n",
       "      <td>6.1</td>\n",
       "      <td>6</td>\n",
       "      <td>42</td>\n",
       "      <td>6</td>\n",
       "      <td>Overweight</td>\n",
       "      <td>77</td>\n",
       "      <td>4200</td>\n",
       "      <td>No Sleep Disorder</td>\n",
       "      <td>126.0</td>\n",
       "      <td>83.0</td>\n",
       "    </tr>\n",
       "    <tr>\n",
       "      <th>1</th>\n",
       "      <td>2</td>\n",
       "      <td>Male</td>\n",
       "      <td>28</td>\n",
       "      <td>Doctor</td>\n",
       "      <td>6.2</td>\n",
       "      <td>6</td>\n",
       "      <td>60</td>\n",
       "      <td>8</td>\n",
       "      <td>Normal</td>\n",
       "      <td>75</td>\n",
       "      <td>10000</td>\n",
       "      <td>No Sleep Disorder</td>\n",
       "      <td>125.0</td>\n",
       "      <td>80.0</td>\n",
       "    </tr>\n",
       "    <tr>\n",
       "      <th>2</th>\n",
       "      <td>3</td>\n",
       "      <td>Male</td>\n",
       "      <td>28</td>\n",
       "      <td>Doctor</td>\n",
       "      <td>6.2</td>\n",
       "      <td>6</td>\n",
       "      <td>60</td>\n",
       "      <td>8</td>\n",
       "      <td>Normal</td>\n",
       "      <td>75</td>\n",
       "      <td>10000</td>\n",
       "      <td>No Sleep Disorder</td>\n",
       "      <td>125.0</td>\n",
       "      <td>80.0</td>\n",
       "    </tr>\n",
       "    <tr>\n",
       "      <th>3</th>\n",
       "      <td>4</td>\n",
       "      <td>Male</td>\n",
       "      <td>28</td>\n",
       "      <td>Sales Representative</td>\n",
       "      <td>5.9</td>\n",
       "      <td>4</td>\n",
       "      <td>30</td>\n",
       "      <td>8</td>\n",
       "      <td>Obese</td>\n",
       "      <td>85</td>\n",
       "      <td>3000</td>\n",
       "      <td>Sleep Apnea</td>\n",
       "      <td>140.0</td>\n",
       "      <td>90.0</td>\n",
       "    </tr>\n",
       "    <tr>\n",
       "      <th>4</th>\n",
       "      <td>5</td>\n",
       "      <td>Male</td>\n",
       "      <td>28</td>\n",
       "      <td>Sales Representative</td>\n",
       "      <td>5.9</td>\n",
       "      <td>4</td>\n",
       "      <td>30</td>\n",
       "      <td>8</td>\n",
       "      <td>Obese</td>\n",
       "      <td>85</td>\n",
       "      <td>3000</td>\n",
       "      <td>Sleep Apnea</td>\n",
       "      <td>140.0</td>\n",
       "      <td>90.0</td>\n",
       "    </tr>\n",
       "  </tbody>\n",
       "</table>\n",
       "</div>"
      ],
      "text/plain": [
       "   Person ID Gender  Age            Occupation  Sleep Duration  \\\n",
       "0          1   Male   27     Software Engineer             6.1   \n",
       "1          2   Male   28                Doctor             6.2   \n",
       "2          3   Male   28                Doctor             6.2   \n",
       "3          4   Male   28  Sales Representative             5.9   \n",
       "4          5   Male   28  Sales Representative             5.9   \n",
       "\n",
       "   Quality of Sleep  Physical Activity Level  Stress Level BMI Category  \\\n",
       "0                 6                       42             6   Overweight   \n",
       "1                 6                       60             8       Normal   \n",
       "2                 6                       60             8       Normal   \n",
       "3                 4                       30             8        Obese   \n",
       "4                 4                       30             8        Obese   \n",
       "\n",
       "   Heart Rate  Daily Steps     Sleep Disorder  High_BP  Low_BP  \n",
       "0          77         4200  No Sleep Disorder    126.0    83.0  \n",
       "1          75        10000  No Sleep Disorder    125.0    80.0  \n",
       "2          75        10000  No Sleep Disorder    125.0    80.0  \n",
       "3          85         3000        Sleep Apnea    140.0    90.0  \n",
       "4          85         3000        Sleep Apnea    140.0    90.0  "
      ]
     },
     "execution_count": 331,
     "metadata": {},
     "output_type": "execute_result"
    }
   ],
   "source": [
    "df.head()"
   ]
  },
  {
   "cell_type": "markdown",
   "metadata": {},
   "source": [
    "## 1. X (Independent) and y (Dependent) variables"
   ]
  },
  {
   "cell_type": "code",
   "execution_count": 332,
   "metadata": {},
   "outputs": [],
   "source": [
    "# Identify features and target\n",
    "X = df.drop(columns=['Person ID', 'Sleep Disorder'])\n",
    "y = df['Sleep Disorder']"
   ]
  },
  {
   "cell_type": "markdown",
   "metadata": {},
   "source": [
    "## 2. Standardizing Independent Variables"
   ]
  },
  {
   "cell_type": "markdown",
   "metadata": {},
   "source": [
    "### 2.1 Splitting Categorical and Numerical Columns"
   ]
  },
  {
   "cell_type": "code",
   "execution_count": 333,
   "metadata": {},
   "outputs": [
    {
     "data": {
      "text/plain": [
       "(Index(['Gender', 'Occupation', 'BMI Category'], dtype='object'),\n",
       " Index(['Age', 'Sleep Duration', 'Quality of Sleep', 'Physical Activity Level',\n",
       "        'Stress Level', 'Heart Rate', 'Daily Steps', 'High_BP', 'Low_BP'],\n",
       "       dtype='object'))"
      ]
     },
     "execution_count": 333,
     "metadata": {},
     "output_type": "execute_result"
    }
   ],
   "source": [
    "# Identify categorical and numerical columns\n",
    "categorical_cols = X.select_dtypes(include=['object']).columns\n",
    "numerical_cols = X.select_dtypes(include=['int64', 'float64']).columns\n",
    "\n",
    "categorical_cols,numerical_cols"
   ]
  },
  {
   "cell_type": "markdown",
   "metadata": {},
   "source": [
    "### 2.1.1 Encoding Categorical Variables"
   ]
  },
  {
   "cell_type": "markdown",
   "metadata": {},
   "source": [
    "#### 2.1.1.1 Encoding Gender & Occupation (LabelEncoder)"
   ]
  },
  {
   "cell_type": "code",
   "execution_count": 334,
   "metadata": {},
   "outputs": [],
   "source": [
    "# Initialize the label encoder\n",
    "label_encoder = LabelEncoder()\n",
    "\n",
    "# Apply label encoding to categorical columns\n",
    "for col in categorical_cols:\n",
    "    if col != 'BMI Category':  \n",
    "        X[col] = label_encoder.fit_transform(X[col])\n"
   ]
  },
  {
   "cell_type": "markdown",
   "metadata": {},
   "source": [
    "* Reason: With only two categories, Label Encoding is simple and effective, converting 'Male' and 'Female' into binary values (e.g., 0 and 1). This works well, especially if there’s no need to treat these as nominal features in a model like linear regression.\n",
    "\n",
    "* Reason: Occupations are nominal categories with no inherent order. Since the number of unique occupations is moderate, Label Encoding will effectively capture the categorical information without imposing any ordinal relationship.\n",
    "\n",
    "* Reason: Sleep Disorders are nominal categories with no inherent order. Label Encoding ensures that no artificial ordinal relationship is imposed, which is important for maintaining the integrity of the data in models that don’t assume order."
   ]
  },
  {
   "cell_type": "markdown",
   "metadata": {},
   "source": [
    "#### 2.1.1.2 Encoding BMI Category (Ordinal Mapping)"
   ]
  },
  {
   "cell_type": "code",
   "execution_count": 335,
   "metadata": {},
   "outputs": [],
   "source": [
    "ordinal_mapping = {\n",
    "    'Normal Weight': 1,\n",
    "    'Normal': 2,\n",
    "    'Overweight': 3,\n",
    "    'Obese': 4\n",
    "}\n",
    "X['BMI Category'] = X['BMI Category'].map(ordinal_mapping)"
   ]
  },
  {
   "cell_type": "markdown",
   "metadata": {},
   "source": [
    "* Reason: BMI categories have a clear ordinal relationship (Normal < Overweight < Obese). Ordinal Encoding preserves this order, which can be beneficial for models that can leverage the ordinal nature of the data."
   ]
  },
  {
   "cell_type": "code",
   "execution_count": 336,
   "metadata": {},
   "outputs": [
    {
     "name": "stdout",
     "output_type": "stream",
     "text": [
      "   Gender  Age  Occupation  Sleep Duration  Quality of Sleep  \\\n",
      "0       1   27           9             6.1                 6   \n",
      "1       1   28           1             6.2                 6   \n",
      "2       1   28           1             6.2                 6   \n",
      "3       1   28           6             5.9                 4   \n",
      "4       1   28           6             5.9                 4   \n",
      "\n",
      "   Physical Activity Level  Stress Level  BMI Category  Heart Rate  \\\n",
      "0                       42             6             3          77   \n",
      "1                       60             8             2          75   \n",
      "2                       60             8             2          75   \n",
      "3                       30             8             4          85   \n",
      "4                       30             8             4          85   \n",
      "\n",
      "   Daily Steps  High_BP  Low_BP  \n",
      "0         4200    126.0    83.0  \n",
      "1        10000    125.0    80.0  \n",
      "2        10000    125.0    80.0  \n",
      "3         3000    140.0    90.0  \n",
      "4         3000    140.0    90.0  \n"
     ]
    }
   ],
   "source": [
    "print(X.head())"
   ]
  },
  {
   "cell_type": "markdown",
   "metadata": {},
   "source": [
    "### 2.2 Encoding Numerical Variables"
   ]
  },
  {
   "cell_type": "code",
   "execution_count": 337,
   "metadata": {},
   "outputs": [
    {
     "name": "stdout",
     "output_type": "stream",
     "text": [
      "   Gender       Age  Occupation  Sleep Duration  Quality of Sleep  \\\n",
      "0       1 -1.753096           9       -1.298887         -1.098280   \n",
      "1       1 -1.637643           1       -1.173036         -1.098280   \n",
      "2       1 -1.637643           1       -1.173036         -1.098280   \n",
      "3       1 -1.637643           6       -1.550588         -2.771424   \n",
      "4       1 -1.637643           6       -1.550588         -2.771424   \n",
      "\n",
      "   Physical Activity Level  Stress Level  BMI Category  Heart Rate  \\\n",
      "0                -0.825418      0.347021             3    1.654719   \n",
      "1                 0.039844      1.475592             2    1.170474   \n",
      "2                 0.039844      1.475592             2    1.170474   \n",
      "3                -1.402260      1.475592             4    3.591698   \n",
      "4                -1.402260      1.475592             4    3.591698   \n",
      "\n",
      "   Daily Steps   High_BP    Low_BP  \n",
      "0    -1.619584 -0.330002 -0.268102  \n",
      "1     1.970077 -0.459239 -0.755640  \n",
      "2     1.970077 -0.459239 -0.755640  \n",
      "3    -2.362273  1.479309  0.869486  \n",
      "4    -2.362273  1.479309  0.869486  \n"
     ]
    }
   ],
   "source": [
    "# Initialize the scaler\n",
    "scaler = StandardScaler()\n",
    "\n",
    "# Apply scaling to numerical columns\n",
    "X[numerical_cols] = scaler.fit_transform(X[numerical_cols])\n",
    "\n",
    "# Verify the changes\n",
    "print(X.head())"
   ]
  },
  {
   "cell_type": "markdown",
   "metadata": {},
   "source": [
    "## 3. Standardizing Dependent Variable "
   ]
  },
  {
   "cell_type": "code",
   "execution_count": 338,
   "metadata": {},
   "outputs": [
    {
     "name": "stdout",
     "output_type": "stream",
     "text": [
      "[1 1 1 2 2 0 0 1 1 1 1 1 1 1 1 1 2 2 0 1 1 1 1 1 1 1 1 1 1 1 2 0 1 1 1 1 1\n",
      " 1 1 1 1 1 1 1 1 1 1 1 1 2 1 1 1 1 1 1 1 1 1 1 1 1 1 1 1 1 1 0 1 1 1 1 1 1\n",
      " 1 1 1 1 1 1 2 2 1 1 1 1 1 1 1 1 1 1 1 2 0 1 1 1 1 1 1 1 1 2 2 0 1 1 1 1 1\n",
      " 1 1 1 1 1 1 1 1 1 1 1 1 1 1 1 1 1 1 1 1 1 1 1 1 1 1 1 1 1 1 1 1 1 2 2 0 0\n",
      " 1 1 1 1 1 1 1 1 1 1 1 1 1 1 1 1 1 0 1 1 1 1 1 1 1 1 1 1 1 0 1 1 1 1 1 1 2\n",
      " 2 0 0 0 0 0 0 0 0 0 0 0 0 0 0 0 0 0 1 1 1 1 1 1 1 1 1 1 1 1 1 1 1 2 2 0 0\n",
      " 0 0 0 0 0 0 0 0 0 0 0 0 0 0 0 0 0 0 0 0 0 0 0 0 0 0 1 1 0 0 0 0 0 0 0 0 0\n",
      " 0 0 1 1 1 0 2 0 1 2 2 2 2 2 2 2 2 2 2 0 1 1 2 2 2 2 2 2 2 2 2 2 2 2 2 2 2\n",
      " 2 2 1 1 1 1 1 2 2 2 0 0 0 0 0 0 1 1 1 0 1 1 1 1 1 1 1 1 1 1 1 1 1 1 1 1 1\n",
      " 1 1 1 1 1 1 2 2 1 1 1 2 2 2 2 2 2 2 2 2 2 2 2 2 2 1 1 2 2 2 2 2 2 2 2 2 2\n",
      " 2 2 2 2]\n"
     ]
    }
   ],
   "source": [
    "label_encoder = LabelEncoder()\n",
    "y = label_encoder.fit_transform(y)\n",
    "\n",
    "print(y)"
   ]
  },
  {
   "cell_type": "markdown",
   "metadata": {},
   "source": [
    "## 4. Checking for outliers after performing Encoding techniques."
   ]
  },
  {
   "cell_type": "markdown",
   "metadata": {},
   "source": [
    "**Outlier Detection Strategy**\n",
    "* Some columns, like Heart Rate, Daily Steps, and Sleep Duration, might have outliers that could impact model performance.\n",
    "* We can identify outliers using methods like the Interquartile Range (IQR) and then decide whether to remove or transform these values."
   ]
  },
  {
   "cell_type": "code",
   "execution_count": 339,
   "metadata": {},
   "outputs": [
    {
     "name": "stdout",
     "output_type": "stream",
     "text": [
      "Age:0\n",
      "Sleep Duration:0\n",
      "Quality of Sleep:0\n",
      "Physical Activity Level:0\n",
      "Stress Level:0\n",
      "Heart Rate:15\n",
      "Daily Steps:0\n",
      "High_BP:0\n",
      "Low_BP:0\n"
     ]
    }
   ],
   "source": [
    "def detect_outliers_iqr(df):\n",
    "    for col in df.columns:\n",
    "        Q1 = df[col].quantile(0.25)\n",
    "        Q3 = df[col].quantile(0.75)\n",
    "        IQR = Q3 - Q1\n",
    "        is_outlier = (df[col] < (Q1 - 1.5 * IQR)) | (df[col] > (Q3 + 1.5 * IQR))\n",
    "        num_outliers = np.sum(is_outlier)\n",
    "        print(f\"{col}:{num_outliers}\")\n",
    "    \n",
    "    return detect_outliers_iqr\n",
    "\n",
    "outliers_iqr_summary = detect_outliers_iqr(X[numerical_cols])"
   ]
  },
  {
   "cell_type": "markdown",
   "metadata": {},
   "source": [
    "* As we can see outliers in the column 'Heart Rate'. For more clarity lets visualize it"
   ]
  },
  {
   "cell_type": "markdown",
   "metadata": {},
   "source": [
    "### 4.1 Visualizing Outliers"
   ]
  },
  {
   "cell_type": "code",
   "execution_count": 340,
   "metadata": {},
   "outputs": [
    {
     "data": {
      "image/png": "[encoded data removed]",
      "text/plain": [
       "<Figure size 1000x600 with 1 Axes>"
      ]
     },
     "metadata": {},
     "output_type": "display_data"
    }
   ],
   "source": [
    "plt.figure(figsize=(10, 6))\n",
    "sns.boxplot(x=X['Heart Rate'])\n",
    "plt.title('Box Plot of Heart Rate')\n",
    "plt.xlabel('Heart Rate')\n",
    "plt.show()\n"
   ]
  },
  {
   "cell_type": "markdown",
   "metadata": {},
   "source": [
    "* Lets cap the outliers in the dataset manually using **IQR method**."
   ]
  },
  {
   "cell_type": "markdown",
   "metadata": {},
   "source": [
    "### 4.2 Capping Outliers using IQR Method"
   ]
  },
  {
   "cell_type": "code",
   "execution_count": 341,
   "metadata": {},
   "outputs": [
    {
     "name": "stdout",
     "output_type": "stream",
     "text": [
      "The number of outliers remaining are: 0\n"
     ]
    }
   ],
   "source": [
    "def cap_outliers(df, col):\n",
    "    Q1 = df[col].quantile(0.25)\n",
    "    Q3 = df[col].quantile(0.75)\n",
    "    IQR = Q3 - Q1\n",
    "    lower_bound = Q1 - 1.5 * IQR\n",
    "    upper_bound = Q3 + 1.5 * IQR\n",
    "    \n",
    "    df[col] = df[col].apply(lambda x: upper_bound if x > upper_bound else (lower_bound if x < lower_bound else x))\n",
    "    return df\n",
    "\n",
    "def detect_remaining_outliers(df, col):\n",
    "    Q1 = df[col].quantile(0.25)\n",
    "    Q3 = df[col].quantile(0.75)\n",
    "    IQR = Q3 - Q1\n",
    "    lower_bound = Q1 - 1.5 * IQR\n",
    "    upper_bound = Q3 + 1.5 * IQR\n",
    "    is_outlier = (df[col] < lower_bound) | (df[col] > upper_bound)\n",
    "    return df[is_outlier]\n",
    "\n",
    "\n",
    "X = cap_outliers(X, 'Heart Rate')\n",
    "remaining_outliers = detect_remaining_outliers(X, 'Heart Rate')\n",
    "print(f\"The number of outliers remaining are: {len(remaining_outliers)}\")\n"
   ]
  },
  {
   "cell_type": "code",
   "execution_count": 342,
   "metadata": {},
   "outputs": [
    {
     "data": {
      "text/html": [
       "<div>\n",
       "<style scoped>\n",
       "    .dataframe tbody tr th:only-of-type {\n",
       "        vertical-align: middle;\n",
       "    }\n",
       "\n",
       "    .dataframe tbody tr th {\n",
       "        vertical-align: top;\n",
       "    }\n",
       "\n",
       "    .dataframe thead th {\n",
       "        text-align: right;\n",
       "    }\n",
       "</style>\n",
       "<table border=\"1\" class=\"dataframe\">\n",
       "  <thead>\n",
       "    <tr style=\"text-align: right;\">\n",
       "      <th></th>\n",
       "      <th>Gender</th>\n",
       "      <th>Age</th>\n",
       "      <th>Occupation</th>\n",
       "      <th>Sleep Duration</th>\n",
       "      <th>Quality of Sleep</th>\n",
       "      <th>Physical Activity Level</th>\n",
       "      <th>Stress Level</th>\n",
       "      <th>BMI Category</th>\n",
       "      <th>Heart Rate</th>\n",
       "      <th>Daily Steps</th>\n",
       "      <th>High_BP</th>\n",
       "      <th>Low_BP</th>\n",
       "    </tr>\n",
       "  </thead>\n",
       "  <tbody>\n",
       "    <tr>\n",
       "      <th>0</th>\n",
       "      <td>1</td>\n",
       "      <td>-1.753096</td>\n",
       "      <td>9</td>\n",
       "      <td>-1.298887</td>\n",
       "      <td>-1.098280</td>\n",
       "      <td>-0.825418</td>\n",
       "      <td>0.347021</td>\n",
       "      <td>3</td>\n",
       "      <td>1.654719</td>\n",
       "      <td>-1.619584</td>\n",
       "      <td>-0.330002</td>\n",
       "      <td>-0.268102</td>\n",
       "    </tr>\n",
       "    <tr>\n",
       "      <th>1</th>\n",
       "      <td>1</td>\n",
       "      <td>-1.637643</td>\n",
       "      <td>1</td>\n",
       "      <td>-1.173036</td>\n",
       "      <td>-1.098280</td>\n",
       "      <td>0.039844</td>\n",
       "      <td>1.475592</td>\n",
       "      <td>2</td>\n",
       "      <td>1.170474</td>\n",
       "      <td>1.970077</td>\n",
       "      <td>-0.459239</td>\n",
       "      <td>-0.755640</td>\n",
       "    </tr>\n",
       "    <tr>\n",
       "      <th>2</th>\n",
       "      <td>1</td>\n",
       "      <td>-1.637643</td>\n",
       "      <td>1</td>\n",
       "      <td>-1.173036</td>\n",
       "      <td>-1.098280</td>\n",
       "      <td>0.039844</td>\n",
       "      <td>1.475592</td>\n",
       "      <td>2</td>\n",
       "      <td>1.170474</td>\n",
       "      <td>1.970077</td>\n",
       "      <td>-0.459239</td>\n",
       "      <td>-0.755640</td>\n",
       "    </tr>\n",
       "    <tr>\n",
       "      <th>3</th>\n",
       "      <td>1</td>\n",
       "      <td>-1.637643</td>\n",
       "      <td>6</td>\n",
       "      <td>-1.550588</td>\n",
       "      <td>-2.771424</td>\n",
       "      <td>-1.402260</td>\n",
       "      <td>1.475592</td>\n",
       "      <td>4</td>\n",
       "      <td>1.896841</td>\n",
       "      <td>-2.362273</td>\n",
       "      <td>1.479309</td>\n",
       "      <td>0.869486</td>\n",
       "    </tr>\n",
       "    <tr>\n",
       "      <th>4</th>\n",
       "      <td>1</td>\n",
       "      <td>-1.637643</td>\n",
       "      <td>6</td>\n",
       "      <td>-1.550588</td>\n",
       "      <td>-2.771424</td>\n",
       "      <td>-1.402260</td>\n",
       "      <td>1.475592</td>\n",
       "      <td>4</td>\n",
       "      <td>1.896841</td>\n",
       "      <td>-2.362273</td>\n",
       "      <td>1.479309</td>\n",
       "      <td>0.869486</td>\n",
       "    </tr>\n",
       "  </tbody>\n",
       "</table>\n",
       "</div>"
      ],
      "text/plain": [
       "   Gender       Age  Occupation  Sleep Duration  Quality of Sleep  \\\n",
       "0       1 -1.753096           9       -1.298887         -1.098280   \n",
       "1       1 -1.637643           1       -1.173036         -1.098280   \n",
       "2       1 -1.637643           1       -1.173036         -1.098280   \n",
       "3       1 -1.637643           6       -1.550588         -2.771424   \n",
       "4       1 -1.637643           6       -1.550588         -2.771424   \n",
       "\n",
       "   Physical Activity Level  Stress Level  BMI Category  Heart Rate  \\\n",
       "0                -0.825418      0.347021             3    1.654719   \n",
       "1                 0.039844      1.475592             2    1.170474   \n",
       "2                 0.039844      1.475592             2    1.170474   \n",
       "3                -1.402260      1.475592             4    1.896841   \n",
       "4                -1.402260      1.475592             4    1.896841   \n",
       "\n",
       "   Daily Steps   High_BP    Low_BP  \n",
       "0    -1.619584 -0.330002 -0.268102  \n",
       "1     1.970077 -0.459239 -0.755640  \n",
       "2     1.970077 -0.459239 -0.755640  \n",
       "3    -2.362273  1.479309  0.869486  \n",
       "4    -2.362273  1.479309  0.869486  "
      ]
     },
     "execution_count": 342,
     "metadata": {},
     "output_type": "execute_result"
    }
   ],
   "source": [
    "X.head()"
   ]
  },
  {
   "cell_type": "markdown",
   "metadata": {},
   "source": [
    "## 5. Split the data into train and test sets"
   ]
  },
  {
   "cell_type": "code",
   "execution_count": 343,
   "metadata": {},
   "outputs": [],
   "source": [
    "# Split the data into train and test sets\n",
    "X_train, X_test, y_train, y_test = train_test_split(X, y, test_size=0.2, random_state=2)"
   ]
  },
  {
   "cell_type": "code",
   "execution_count": 344,
   "metadata": {},
   "outputs": [
    {
     "data": {
      "text/plain": [
       "(((299, 12), (75, 12), (299,), (75,)),\n",
       " array(['Insomnia', 'No Sleep Disorder', 'Sleep Apnea'], dtype=object))"
      ]
     },
     "execution_count": 344,
     "metadata": {},
     "output_type": "execute_result"
    }
   ],
   "source": [
    "(X_train.shape, X_test.shape, y_train.shape, y_test.shape), label_encoder.classes_"
   ]
  },
  {
   "cell_type": "markdown",
   "metadata": {},
   "source": [
    "### 5.1 Create an Evaluate Function to give all metrics after model Training"
   ]
  },
  {
   "cell_type": "code",
   "execution_count": 345,
   "metadata": {},
   "outputs": [],
   "source": [
    "# Train and Test metrics\n",
    "def evaluate_classification_model(true, predicted):\n",
    "    accuracy = accuracy_score(true, predicted)\n",
    "    precision = precision_score(true, predicted, average='weighted')\n",
    "    recall = recall_score(true, predicted, average='weighted')\n",
    "    f1 = f1_score(true, predicted, average='weighted')\n",
    "    return accuracy, precision, recall, f1"
   ]
  },
  {
   "cell_type": "code",
   "execution_count": 346,
   "metadata": {},
   "outputs": [],
   "source": [
    "# Classification models\n",
    "classification_models = {\n",
    "    \"Decision Tree Classifier\": DecisionTreeClassifier(),\n",
    "    \"Random Forest Classifier\": RandomForestClassifier(),\n",
    "    \"Gradient Boosting Classifier\": GradientBoostingClassifier(),\n",
    "    \"K-Neighbors Classifier\": KNeighborsClassifier(),\n",
    "    \"SVC\": SVC(),\n",
    "    \"Logistic Regression\": LogisticRegression()\n",
    "}\n",
    "\n",
    "results = []\n",
    "\n",
    "for name, model in classification_models.items():\n",
    "    model.fit(X_train, y_train)\n",
    "    y_train_pred = model.predict(X_train)\n",
    "    y_test_pred = model.predict(X_test)\n",
    "    \n",
    "    train_metrics = evaluate_classification_model(y_train, y_train_pred)\n",
    "    test_metrics = evaluate_classification_model(y_test, y_test_pred)\n",
    "    \n",
    "    results.append({\n",
    "        'Model': name,\n",
    "        'Train Accuracy': train_metrics[0],\n",
    "        'Train Precision': train_metrics[1],\n",
    "        'Train Recall': train_metrics[2],\n",
    "        'Train F1 Score': train_metrics[3],\n",
    "        'Test Accuracy': test_metrics[0],\n",
    "        'Test Precision': test_metrics[1],\n",
    "        'Test Recall': test_metrics[2],\n",
    "        'Test F1 Score': test_metrics[3]\n",
    "    })"
   ]
  },
  {
   "cell_type": "code",
   "execution_count": 347,
   "metadata": {},
   "outputs": [],
   "source": [
    "# Creating DataFrame sorting based on F1 Score\n",
    "df_results = pd.DataFrame(results).sort_values(by='Test F1 Score', ascending=False)"
   ]
  },
  {
   "cell_type": "code",
   "execution_count": 348,
   "metadata": {},
   "outputs": [
    {
     "data": {
      "text/html": [
       "<div>\n",
       "<style scoped>\n",
       "    .dataframe tbody tr th:only-of-type {\n",
       "        vertical-align: middle;\n",
       "    }\n",
       "\n",
       "    .dataframe tbody tr th {\n",
       "        vertical-align: top;\n",
       "    }\n",
       "\n",
       "    .dataframe thead th {\n",
       "        text-align: right;\n",
       "    }\n",
       "</style>\n",
       "<table border=\"1\" class=\"dataframe\">\n",
       "  <thead>\n",
       "    <tr style=\"text-align: right;\">\n",
       "      <th></th>\n",
       "      <th>Model</th>\n",
       "      <th>Train Accuracy</th>\n",
       "      <th>Train Precision</th>\n",
       "      <th>Train Recall</th>\n",
       "      <th>Train F1 Score</th>\n",
       "      <th>Test Accuracy</th>\n",
       "      <th>Test Precision</th>\n",
       "      <th>Test Recall</th>\n",
       "      <th>Test F1 Score</th>\n",
       "    </tr>\n",
       "  </thead>\n",
       "  <tbody>\n",
       "    <tr>\n",
       "      <th>1</th>\n",
       "      <td>Random Forest Classifier</td>\n",
       "      <td>0.929766</td>\n",
       "      <td>0.929761</td>\n",
       "      <td>0.929766</td>\n",
       "      <td>0.929697</td>\n",
       "      <td>0.946667</td>\n",
       "      <td>0.948381</td>\n",
       "      <td>0.946667</td>\n",
       "      <td>0.945882</td>\n",
       "    </tr>\n",
       "    <tr>\n",
       "      <th>2</th>\n",
       "      <td>Gradient Boosting Classifier</td>\n",
       "      <td>0.926421</td>\n",
       "      <td>0.926476</td>\n",
       "      <td>0.926421</td>\n",
       "      <td>0.926424</td>\n",
       "      <td>0.946667</td>\n",
       "      <td>0.948381</td>\n",
       "      <td>0.946667</td>\n",
       "      <td>0.945882</td>\n",
       "    </tr>\n",
       "    <tr>\n",
       "      <th>3</th>\n",
       "      <td>K-Neighbors Classifier</td>\n",
       "      <td>0.892977</td>\n",
       "      <td>0.894152</td>\n",
       "      <td>0.892977</td>\n",
       "      <td>0.893423</td>\n",
       "      <td>0.920000</td>\n",
       "      <td>0.923430</td>\n",
       "      <td>0.920000</td>\n",
       "      <td>0.920683</td>\n",
       "    </tr>\n",
       "    <tr>\n",
       "      <th>4</th>\n",
       "      <td>SVC</td>\n",
       "      <td>0.886288</td>\n",
       "      <td>0.890366</td>\n",
       "      <td>0.886288</td>\n",
       "      <td>0.887169</td>\n",
       "      <td>0.906667</td>\n",
       "      <td>0.913871</td>\n",
       "      <td>0.906667</td>\n",
       "      <td>0.907741</td>\n",
       "    </tr>\n",
       "    <tr>\n",
       "      <th>0</th>\n",
       "      <td>Decision Tree Classifier</td>\n",
       "      <td>0.929766</td>\n",
       "      <td>0.930644</td>\n",
       "      <td>0.929766</td>\n",
       "      <td>0.929967</td>\n",
       "      <td>0.906667</td>\n",
       "      <td>0.908382</td>\n",
       "      <td>0.906667</td>\n",
       "      <td>0.907171</td>\n",
       "    </tr>\n",
       "    <tr>\n",
       "      <th>5</th>\n",
       "      <td>Logistic Regression</td>\n",
       "      <td>0.909699</td>\n",
       "      <td>0.909452</td>\n",
       "      <td>0.909699</td>\n",
       "      <td>0.909512</td>\n",
       "      <td>0.906667</td>\n",
       "      <td>0.906570</td>\n",
       "      <td>0.906667</td>\n",
       "      <td>0.905955</td>\n",
       "    </tr>\n",
       "  </tbody>\n",
       "</table>\n",
       "</div>"
      ],
      "text/plain": [
       "                          Model  Train Accuracy  Train Precision  \\\n",
       "1      Random Forest Classifier        0.929766         0.929761   \n",
       "2  Gradient Boosting Classifier        0.926421         0.926476   \n",
       "3        K-Neighbors Classifier        0.892977         0.894152   \n",
       "4                           SVC        0.886288         0.890366   \n",
       "0      Decision Tree Classifier        0.929766         0.930644   \n",
       "5           Logistic Regression        0.909699         0.909452   \n",
       "\n",
       "   Train Recall  Train F1 Score  Test Accuracy  Test Precision  Test Recall  \\\n",
       "1      0.929766        0.929697       0.946667        0.948381     0.946667   \n",
       "2      0.926421        0.926424       0.946667        0.948381     0.946667   \n",
       "3      0.892977        0.893423       0.920000        0.923430     0.920000   \n",
       "4      0.886288        0.887169       0.906667        0.913871     0.906667   \n",
       "0      0.929766        0.929967       0.906667        0.908382     0.906667   \n",
       "5      0.909699        0.909512       0.906667        0.906570     0.906667   \n",
       "\n",
       "   Test F1 Score  \n",
       "1       0.945882  \n",
       "2       0.945882  \n",
       "3       0.920683  \n",
       "4       0.907741  \n",
       "0       0.907171  \n",
       "5       0.905955  "
      ]
     },
     "execution_count": 348,
     "metadata": {},
     "output_type": "execute_result"
    }
   ],
   "source": [
    "df_results"
   ]
  },
  {
   "cell_type": "code",
   "execution_count": 349,
   "metadata": {},
   "outputs": [
    {
     "data": {
      "application/vnd.plotly.v1+json": {
       "config": {
        "plotlyServerURL": "https://plot.ly"
       },
       "data": [
        {
         "alignmentgroup": "True",
         "hovertemplate": "<b>%{hovertext}</b><br><br>variable=Train Accuracy<br>Classification Model=%{x}<br>Score=%{y}<extra></extra>",
         "hovertext": [
          "Random Forest Classifier",
          "Gradient Boosting Classifier",
          "K-Neighbors Classifier",
          "SVC",
          "Decision Tree Classifier",
          "Logistic Regression"
         ],
         "legendgroup": "Train Accuracy",
         "marker": {
          "color": "#636efa",
          "pattern": {
           "shape": ""
          }
         },
         "name": "Train Accuracy",
         "offsetgroup": "Train Accuracy",
         "orientation": "v",
         "showlegend": true,
         "textposition": "auto",
         "texttemplate": "%{y}",
         "type": "bar",
         "x": [
          "Random Forest Classifier",
          "Gradient Boosting Classifier",
          "K-Neighbors Classifier",
          "SVC",
          "Decision Tree Classifier",
          "Logistic Regression"
         ],
         "xaxis": "x",
         "y": [
          0.9297658862876255,
          0.9264214046822743,
          0.8929765886287625,
          0.8862876254180602,
          0.9297658862876255,
          0.9096989966555183
         ],
         "yaxis": "y"
        },
        {
         "alignmentgroup": "True",
         "hovertemplate": "<b>%{hovertext}</b><br><br>variable=Train Precision<br>Classification Model=%{x}<br>Score=%{y}<extra></extra>",
         "hovertext": [
          "Random Forest Classifier",
          "Gradient Boosting Classifier",
          "K-Neighbors Classifier",
          "SVC",
          "Decision Tree Classifier",
          "Logistic Regression"
         ],
         "legendgroup": "Train Precision",
         "marker": {
          "color": "#EF553B",
          "pattern": {
           "shape": ""
          }
         },
         "name": "Train Precision",
         "offsetgroup": "Train Precision",
         "orientation": "v",
         "showlegend": true,
         "textposition": "auto",
         "texttemplate": "%{y}",
         "type": "bar",
         "x": [
          "Random Forest Classifier",
          "Gradient Boosting Classifier",
          "K-Neighbors Classifier",
          "SVC",
          "Decision Tree Classifier",
          "Logistic Regression"
         ],
         "xaxis": "x",
         "y": [
          0.9297613686603572,
          0.926476232249575,
          0.8941518251863078,
          0.8903664360021502,
          0.9306436920214776,
          0.9094524368800198
         ],
         "yaxis": "y"
        },
        {
         "alignmentgroup": "True",
         "hovertemplate": "<b>%{hovertext}</b><br><br>variable=Train Recall<br>Classification Model=%{x}<br>Score=%{y}<extra></extra>",
         "hovertext": [
          "Random Forest Classifier",
          "Gradient Boosting Classifier",
          "K-Neighbors Classifier",
          "SVC",
          "Decision Tree Classifier",
          "Logistic Regression"
         ],
         "legendgroup": "Train Recall",
         "marker": {
          "color": "#00cc96",
          "pattern": {
           "shape": ""
          }
         },
         "name": "Train Recall",
         "offsetgroup": "Train Recall",
         "orientation": "v",
         "showlegend": true,
         "textposition": "auto",
         "texttemplate": "%{y}",
         "type": "bar",
         "x": [
          "Random Forest Classifier",
          "Gradient Boosting Classifier",
          "K-Neighbors Classifier",
          "SVC",
          "Decision Tree Classifier",
          "Logistic Regression"
         ],
         "xaxis": "x",
         "y": [
          0.9297658862876255,
          0.9264214046822743,
          0.8929765886287625,
          0.8862876254180602,
          0.9297658862876255,
          0.9096989966555183
         ],
         "yaxis": "y"
        },
        {
         "alignmentgroup": "True",
         "hovertemplate": "<b>%{hovertext}</b><br><br>variable=Train F1 Score<br>Classification Model=%{x}<br>Score=%{y}<extra></extra>",
         "hovertext": [
          "Random Forest Classifier",
          "Gradient Boosting Classifier",
          "K-Neighbors Classifier",
          "SVC",
          "Decision Tree Classifier",
          "Logistic Regression"
         ],
         "legendgroup": "Train F1 Score",
         "marker": {
          "color": "#ab63fa",
          "pattern": {
           "shape": ""
          }
         },
         "name": "Train F1 Score",
         "offsetgroup": "Train F1 Score",
         "orientation": "v",
         "showlegend": true,
         "textposition": "auto",
         "texttemplate": "%{y}",
         "type": "bar",
         "x": [
          "Random Forest Classifier",
          "Gradient Boosting Classifier",
          "K-Neighbors Classifier",
          "SVC",
          "Decision Tree Classifier",
          "Logistic Regression"
         ],
         "xaxis": "x",
         "y": [
          0.929696662255848,
          0.9264243260194287,
          0.8934227983905773,
          0.8871693265445131,
          0.9299673196609061,
          0.9095117724155738
         ],
         "yaxis": "y"
        },
        {
         "alignmentgroup": "True",
         "hovertemplate": "<b>%{hovertext}</b><br><br>variable=Test Accuracy<br>Classification Model=%{x}<br>Score=%{y}<extra></extra>",
         "hovertext": [
          "Random Forest Classifier",
          "Gradient Boosting Classifier",
          "K-Neighbors Classifier",
          "SVC",
          "Decision Tree Classifier",
          "Logistic Regression"
         ],
         "legendgroup": "Test Accuracy",
         "marker": {
          "color": "#FFA15A",
          "pattern": {
           "shape": ""
          }
         },
         "name": "Test Accuracy",
         "offsetgroup": "Test Accuracy",
         "orientation": "v",
         "showlegend": true,
         "textposition": "auto",
         "texttemplate": "%{y}",
         "type": "bar",
         "x": [
          "Random Forest Classifier",
          "Gradient Boosting Classifier",
          "K-Neighbors Classifier",
          "SVC",
          "Decision Tree Classifier",
          "Logistic Regression"
         ],
         "xaxis": "x",
         "y": [
          0.9466666666666667,
          0.9466666666666667,
          0.92,
          0.9066666666666666,
          0.9066666666666666,
          0.9066666666666666
         ],
         "yaxis": "y"
        },
        {
         "alignmentgroup": "True",
         "hovertemplate": "<b>%{hovertext}</b><br><br>variable=Test Precision<br>Classification Model=%{x}<br>Score=%{y}<extra></extra>",
         "hovertext": [
          "Random Forest Classifier",
          "Gradient Boosting Classifier",
          "K-Neighbors Classifier",
          "SVC",
          "Decision Tree Classifier",
          "Logistic Regression"
         ],
         "legendgroup": "Test Precision",
         "marker": {
          "color": "#19d3f3",
          "pattern": {
           "shape": ""
          }
         },
         "name": "Test Precision",
         "offsetgroup": "Test Precision",
         "orientation": "v",
         "showlegend": true,
         "textposition": "auto",
         "texttemplate": "%{y}",
         "type": "bar",
         "x": [
          "Random Forest Classifier",
          "Gradient Boosting Classifier",
          "K-Neighbors Classifier",
          "SVC",
          "Decision Tree Classifier",
          "Logistic Regression"
         ],
         "xaxis": "x",
         "y": [
          0.9483809523809524,
          0.9483809523809524,
          0.9234302325581395,
          0.9138714090287278,
          0.9083823529411764,
          0.9065699006875477
         ],
         "yaxis": "y"
        },
        {
         "alignmentgroup": "True",
         "hovertemplate": "<b>%{hovertext}</b><br><br>variable=Test Recall<br>Classification Model=%{x}<br>Score=%{y}<extra></extra>",
         "hovertext": [
          "Random Forest Classifier",
          "Gradient Boosting Classifier",
          "K-Neighbors Classifier",
          "SVC",
          "Decision Tree Classifier",
          "Logistic Regression"
         ],
         "legendgroup": "Test Recall",
         "marker": {
          "color": "#FF6692",
          "pattern": {
           "shape": ""
          }
         },
         "name": "Test Recall",
         "offsetgroup": "Test Recall",
         "orientation": "v",
         "showlegend": true,
         "textposition": "auto",
         "texttemplate": "%{y}",
         "type": "bar",
         "x": [
          "Random Forest Classifier",
          "Gradient Boosting Classifier",
          "K-Neighbors Classifier",
          "SVC",
          "Decision Tree Classifier",
          "Logistic Regression"
         ],
         "xaxis": "x",
         "y": [
          0.9466666666666667,
          0.9466666666666667,
          0.92,
          0.9066666666666666,
          0.9066666666666666,
          0.9066666666666666
         ],
         "yaxis": "y"
        },
        {
         "alignmentgroup": "True",
         "hovertemplate": "<b>%{hovertext}</b><br><br>variable=Test F1 Score<br>Classification Model=%{x}<br>Score=%{y}<extra></extra>",
         "hovertext": [
          "Random Forest Classifier",
          "Gradient Boosting Classifier",
          "K-Neighbors Classifier",
          "SVC",
          "Decision Tree Classifier",
          "Logistic Regression"
         ],
         "legendgroup": "Test F1 Score",
         "marker": {
          "color": "#B6E880",
          "pattern": {
           "shape": ""
          }
         },
         "name": "Test F1 Score",
         "offsetgroup": "Test F1 Score",
         "orientation": "v",
         "showlegend": true,
         "textposition": "auto",
         "texttemplate": "%{y}",
         "type": "bar",
         "x": [
          "Random Forest Classifier",
          "Gradient Boosting Classifier",
          "K-Neighbors Classifier",
          "SVC",
          "Decision Tree Classifier",
          "Logistic Regression"
         ],
         "xaxis": "x",
         "y": [
          0.9458823529411766,
          0.9458823529411766,
          0.9206831119544592,
          0.9077406417112299,
          0.9071705069124424,
          0.9059548631000115
         ],
         "yaxis": "y"
        }
       ],
       "layout": {
        "barmode": "group",
        "hovermode": "x unified",
        "legend": {
         "title": {
          "text": "Metrics"
         },
         "tracegroupgap": 0
        },
        "template": {
         "data": {
          "bar": [
           {
            "error_x": {
             "color": "#2a3f5f"
            },
            "error_y": {
             "color": "#2a3f5f"
            },
            "marker": {
             "line": {
              "color": "white",
              "width": 0.5
             },
             "pattern": {
              "fillmode": "overlay",
              "size": 10,
              "solidity": 0.2
             }
            },
            "type": "bar"
           }
          ],
          "barpolar": [
           {
            "marker": {
             "line": {
              "color": "white",
              "width": 0.5
             },
             "pattern": {
              "fillmode": "overlay",
              "size": 10,
              "solidity": 0.2
             }
            },
            "type": "barpolar"
           }
          ],
          "carpet": [
           {
            "aaxis": {
             "endlinecolor": "#2a3f5f",
             "gridcolor": "#C8D4E3",
             "linecolor": "#C8D4E3",
             "minorgridcolor": "#C8D4E3",
             "startlinecolor": "#2a3f5f"
            },
            "baxis": {
             "endlinecolor": "#2a3f5f",
             "gridcolor": "#C8D4E3",
             "linecolor": "#C8D4E3",
             "minorgridcolor": "#C8D4E3",
             "startlinecolor": "#2a3f5f"
            },
            "type": "carpet"
           }
          ],
          "choropleth": [
           {
            "colorbar": {
             "outlinewidth": 0,
             "ticks": ""
            },
            "type": "choropleth"
           }
          ],
          "contour": [
           {
            "colorbar": {
             "outlinewidth": 0,
             "ticks": ""
            },
            "colorscale": [
             [
              0,
              "#0d0887"
             ],
             [
              0.1111111111111111,
              "#46039f"
             ],
             [
              0.2222222222222222,
              "#7201a8"
             ],
             [
              0.3333333333333333,
              "#9c179e"
             ],
             [
              0.4444444444444444,
              "#bd3786"
             ],
             [
              0.5555555555555556,
              "#d8576b"
             ],
             [
              0.6666666666666666,
              "#ed7953"
             ],
             [
              0.7777777777777778,
              "#fb9f3a"
             ],
             [
              0.8888888888888888,
              "#fdca26"
             ],
             [
              1,
              "#f0f921"
             ]
            ],
            "type": "contour"
           }
          ],
          "contourcarpet": [
           {
            "colorbar": {
             "outlinewidth": 0,
             "ticks": ""
            },
            "type": "contourcarpet"
           }
          ],
          "heatmap": [
           {
            "colorbar": {
             "outlinewidth": 0,
             "ticks": ""
            },
            "colorscale": [
             [
              0,
              "#0d0887"
             ],
             [
              0.1111111111111111,
              "#46039f"
             ],
             [
              0.2222222222222222,
              "#7201a8"
             ],
             [
              0.3333333333333333,
              "#9c179e"
             ],
             [
              0.4444444444444444,
              "#bd3786"
             ],
             [
              0.5555555555555556,
              "#d8576b"
             ],
             [
              0.6666666666666666,
              "#ed7953"
             ],
             [
              0.7777777777777778,
              "#fb9f3a"
             ],
             [
              0.8888888888888888,
              "#fdca26"
             ],
             [
              1,
              "#f0f921"
             ]
            ],
            "type": "heatmap"
           }
          ],
          "heatmapgl": [
           {
            "colorbar": {
             "outlinewidth": 0,
             "ticks": ""
            },
            "colorscale": [
             [
              0,
              "#0d0887"
             ],
             [
              0.1111111111111111,
              "#46039f"
             ],
             [
              0.2222222222222222,
              "#7201a8"
             ],
             [
              0.3333333333333333,
              "#9c179e"
             ],
             [
              0.4444444444444444,
              "#bd3786"
             ],
             [
              0.5555555555555556,
              "#d8576b"
             ],
             [
              0.6666666666666666,
              "#ed7953"
             ],
             [
              0.7777777777777778,
              "#fb9f3a"
             ],
             [
              0.8888888888888888,
              "#fdca26"
             ],
             [
              1,
              "#f0f921"
             ]
            ],
            "type": "heatmapgl"
           }
          ],
          "histogram": [
           {
            "marker": {
             "pattern": {
              "fillmode": "overlay",
              "size": 10,
              "solidity": 0.2
             }
            },
            "type": "histogram"
           }
          ],
          "histogram2d": [
           {
            "colorbar": {
             "outlinewidth": 0,
             "ticks": ""
            },
            "colorscale": [
             [
              0,
              "#0d0887"
             ],
             [
              0.1111111111111111,
              "#46039f"
             ],
             [
              0.2222222222222222,
              "#7201a8"
             ],
             [
              0.3333333333333333,
              "#9c179e"
             ],
             [
              0.4444444444444444,
              "#bd3786"
             ],
             [
              0.5555555555555556,
              "#d8576b"
             ],
             [
              0.6666666666666666,
              "#ed7953"
             ],
             [
              0.7777777777777778,
              "#fb9f3a"
             ],
             [
              0.8888888888888888,
              "#fdca26"
             ],
             [
              1,
              "#f0f921"
             ]
            ],
            "type": "histogram2d"
           }
          ],
          "histogram2dcontour": [
           {
            "colorbar": {
             "outlinewidth": 0,
             "ticks": ""
            },
            "colorscale": [
             [
              0,
              "#0d0887"
             ],
             [
              0.1111111111111111,
              "#46039f"
             ],
             [
              0.2222222222222222,
              "#7201a8"
             ],
             [
              0.3333333333333333,
              "#9c179e"
             ],
             [
              0.4444444444444444,
              "#bd3786"
             ],
             [
              0.5555555555555556,
              "#d8576b"
             ],
             [
              0.6666666666666666,
              "#ed7953"
             ],
             [
              0.7777777777777778,
              "#fb9f3a"
             ],
             [
              0.8888888888888888,
              "#fdca26"
             ],
             [
              1,
              "#f0f921"
             ]
            ],
            "type": "histogram2dcontour"
           }
          ],
          "mesh3d": [
           {
            "colorbar": {
             "outlinewidth": 0,
             "ticks": ""
            },
            "type": "mesh3d"
           }
          ],
          "parcoords": [
           {
            "line": {
             "colorbar": {
              "outlinewidth": 0,
              "ticks": ""
             }
            },
            "type": "parcoords"
           }
          ],
          "pie": [
           {
            "automargin": true,
            "type": "pie"
           }
          ],
          "scatter": [
           {
            "fillpattern": {
             "fillmode": "overlay",
             "size": 10,
             "solidity": 0.2
            },
            "type": "scatter"
           }
          ],
          "scatter3d": [
           {
            "line": {
             "colorbar": {
              "outlinewidth": 0,
              "ticks": ""
             }
            },
            "marker": {
             "colorbar": {
              "outlinewidth": 0,
              "ticks": ""
             }
            },
            "type": "scatter3d"
           }
          ],
          "scattercarpet": [
           {
            "marker": {
             "colorbar": {
              "outlinewidth": 0,
              "ticks": ""
             }
            },
            "type": "scattercarpet"
           }
          ],
          "scattergeo": [
           {
            "marker": {
             "colorbar": {
              "outlinewidth": 0,
              "ticks": ""
             }
            },
            "type": "scattergeo"
           }
          ],
          "scattergl": [
           {
            "marker": {
             "colorbar": {
              "outlinewidth": 0,
              "ticks": ""
             }
            },
            "type": "scattergl"
           }
          ],
          "scattermapbox": [
           {
            "marker": {
             "colorbar": {
              "outlinewidth": 0,
              "ticks": ""
             }
            },
            "type": "scattermapbox"
           }
          ],
          "scatterpolar": [
           {
            "marker": {
             "colorbar": {
              "outlinewidth": 0,
              "ticks": ""
             }
            },
            "type": "scatterpolar"
           }
          ],
          "scatterpolargl": [
           {
            "marker": {
             "colorbar": {
              "outlinewidth": 0,
              "ticks": ""
             }
            },
            "type": "scatterpolargl"
           }
          ],
          "scatterternary": [
           {
            "marker": {
             "colorbar": {
              "outlinewidth": 0,
              "ticks": ""
             }
            },
            "type": "scatterternary"
           }
          ],
          "surface": [
           {
            "colorbar": {
             "outlinewidth": 0,
             "ticks": ""
            },
            "colorscale": [
             [
              0,
              "#0d0887"
             ],
             [
              0.1111111111111111,
              "#46039f"
             ],
             [
              0.2222222222222222,
              "#7201a8"
             ],
             [
              0.3333333333333333,
              "#9c179e"
             ],
             [
              0.4444444444444444,
              "#bd3786"
             ],
             [
              0.5555555555555556,
              "#d8576b"
             ],
             [
              0.6666666666666666,
              "#ed7953"
             ],
             [
              0.7777777777777778,
              "#fb9f3a"
             ],
             [
              0.8888888888888888,
              "#fdca26"
             ],
             [
              1,
              "#f0f921"
             ]
            ],
            "type": "surface"
           }
          ],
          "table": [
           {
            "cells": {
             "fill": {
              "color": "#EBF0F8"
             },
             "line": {
              "color": "white"
             }
            },
            "header": {
             "fill": {
              "color": "#C8D4E3"
             },
             "line": {
              "color": "white"
             }
            },
            "type": "table"
           }
          ]
         },
         "layout": {
          "annotationdefaults": {
           "arrowcolor": "#2a3f5f",
           "arrowhead": 0,
           "arrowwidth": 1
          },
          "autotypenumbers": "strict",
          "coloraxis": {
           "colorbar": {
            "outlinewidth": 0,
            "ticks": ""
           }
          },
          "colorscale": {
           "diverging": [
            [
             0,
             "#8e0152"
            ],
            [
             0.1,
             "#c51b7d"
            ],
            [
             0.2,
             "#de77ae"
            ],
            [
             0.3,
             "#f1b6da"
            ],
            [
             0.4,
             "#fde0ef"
            ],
            [
             0.5,
             "#f7f7f7"
            ],
            [
             0.6,
             "#e6f5d0"
            ],
            [
             0.7,
             "#b8e186"
            ],
            [
             0.8,
             "#7fbc41"
            ],
            [
             0.9,
             "#4d9221"
            ],
            [
             1,
             "#276419"
            ]
           ],
           "sequential": [
            [
             0,
             "#0d0887"
            ],
            [
             0.1111111111111111,
             "#46039f"
            ],
            [
             0.2222222222222222,
             "#7201a8"
            ],
            [
             0.3333333333333333,
             "#9c179e"
            ],
            [
             0.4444444444444444,
             "#bd3786"
            ],
            [
             0.5555555555555556,
             "#d8576b"
            ],
            [
             0.6666666666666666,
             "#ed7953"
            ],
            [
             0.7777777777777778,
             "#fb9f3a"
            ],
            [
             0.8888888888888888,
             "#fdca26"
            ],
            [
             1,
             "#f0f921"
            ]
           ],
           "sequentialminus": [
            [
             0,
             "#0d0887"
            ],
            [
             0.1111111111111111,
             "#46039f"
            ],
            [
             0.2222222222222222,
             "#7201a8"
            ],
            [
             0.3333333333333333,
             "#9c179e"
            ],
            [
             0.4444444444444444,
             "#bd3786"
            ],
            [
             0.5555555555555556,
             "#d8576b"
            ],
            [
             0.6666666666666666,
             "#ed7953"
            ],
            [
             0.7777777777777778,
             "#fb9f3a"
            ],
            [
             0.8888888888888888,
             "#fdca26"
            ],
            [
             1,
             "#f0f921"
            ]
           ]
          },
          "colorway": [
           "#636efa",
           "#EF553B",
           "#00cc96",
           "#ab63fa",
           "#FFA15A",
           "#19d3f3",
           "#FF6692",
           "#B6E880",
           "#FF97FF",
           "#FECB52"
          ],
          "font": {
           "color": "#2a3f5f"
          },
          "geo": {
           "bgcolor": "white",
           "lakecolor": "white",
           "landcolor": "white",
           "showlakes": true,
           "showland": true,
           "subunitcolor": "#C8D4E3"
          },
          "hoverlabel": {
           "align": "left"
          },
          "hovermode": "closest",
          "mapbox": {
           "style": "light"
          },
          "paper_bgcolor": "white",
          "plot_bgcolor": "white",
          "polar": {
           "angularaxis": {
            "gridcolor": "#EBF0F8",
            "linecolor": "#EBF0F8",
            "ticks": ""
           },
           "bgcolor": "white",
           "radialaxis": {
            "gridcolor": "#EBF0F8",
            "linecolor": "#EBF0F8",
            "ticks": ""
           }
          },
          "scene": {
           "xaxis": {
            "backgroundcolor": "white",
            "gridcolor": "#DFE8F3",
            "gridwidth": 2,
            "linecolor": "#EBF0F8",
            "showbackground": true,
            "ticks": "",
            "zerolinecolor": "#EBF0F8"
           },
           "yaxis": {
            "backgroundcolor": "white",
            "gridcolor": "#DFE8F3",
            "gridwidth": 2,
            "linecolor": "#EBF0F8",
            "showbackground": true,
            "ticks": "",
            "zerolinecolor": "#EBF0F8"
           },
           "zaxis": {
            "backgroundcolor": "white",
            "gridcolor": "#DFE8F3",
            "gridwidth": 2,
            "linecolor": "#EBF0F8",
            "showbackground": true,
            "ticks": "",
            "zerolinecolor": "#EBF0F8"
           }
          },
          "shapedefaults": {
           "line": {
            "color": "#2a3f5f"
           }
          },
          "ternary": {
           "aaxis": {
            "gridcolor": "#DFE8F3",
            "linecolor": "#A2B1C6",
            "ticks": ""
           },
           "baxis": {
            "gridcolor": "#DFE8F3",
            "linecolor": "#A2B1C6",
            "ticks": ""
           },
           "bgcolor": "white",
           "caxis": {
            "gridcolor": "#DFE8F3",
            "linecolor": "#A2B1C6",
            "ticks": ""
           }
          },
          "title": {
           "x": 0.05
          },
          "xaxis": {
           "automargin": true,
           "gridcolor": "#EBF0F8",
           "linecolor": "#EBF0F8",
           "ticks": "",
           "title": {
            "standoff": 15
           },
           "zerolinecolor": "#EBF0F8",
           "zerolinewidth": 2
          },
          "yaxis": {
           "automargin": true,
           "gridcolor": "#EBF0F8",
           "linecolor": "#EBF0F8",
           "ticks": "",
           "title": {
            "standoff": 15
           },
           "zerolinecolor": "#EBF0F8",
           "zerolinewidth": 2
          }
         }
        },
        "title": {
         "text": "Model Evaluation Metrics"
        },
        "xaxis": {
         "anchor": "y",
         "domain": [
          0,
          1
         ],
         "tickangle": -45,
         "title": {
          "text": "Classification Model"
         }
        },
        "yaxis": {
         "anchor": "x",
         "domain": [
          0,
          1
         ],
         "title": {
          "text": "Score"
         }
        }
       }
      }
     },
     "metadata": {},
     "output_type": "display_data"
    }
   ],
   "source": [
    "import plotly.express as px\n",
    "\n",
    "fig = px.bar(df_results, \n",
    "             x='Model', \n",
    "             y=['Train Accuracy', 'Train Precision', 'Train Recall', 'Train F1 Score', \n",
    "                'Test Accuracy', 'Test Precision', 'Test Recall', 'Test F1 Score'],\n",
    "             title='Model Evaluation Metrics',\n",
    "             labels={'value': 'Score', 'Model': 'Classification Model'},\n",
    "             hover_name='Model',\n",
    "             text_auto=True,\n",
    "             barmode='group')\n",
    "\n",
    "fig.update_layout(\n",
    "    xaxis_title='Classification Model',\n",
    "    yaxis_title='Score',\n",
    "    xaxis_tickangle=-45,\n",
    "    legend_title='Metrics',\n",
    "    hovermode='x unified',\n",
    "    template='plotly_white'\n",
    ")\n",
    "\n",
    "fig.show()"
   ]
  },
  {
   "cell_type": "markdown",
   "metadata": {},
   "source": [
    "### 5.2 Hyperparameter Tuning"
   ]
  },
  {
   "cell_type": "code",
   "execution_count": 350,
   "metadata": {},
   "outputs": [],
   "source": [
    "# Define parameter grids for each model\n",
    "param_grids = {\n",
    "    \"Decision Tree Classifier\": {\n",
    "        'clf__criterion': ['gini', 'entropy'],\n",
    "        'clf__max_depth': [None, 10, 20, 30],\n",
    "        'clf__min_samples_split': [2, 5, 10]\n",
    "    },\n",
    "    \"Random Forest Classifier\": {\n",
    "        'clf__n_estimators': [100, 200, 300],\n",
    "        'clf__max_depth': [None, 10, 20, 30],\n",
    "        'clf__min_samples_split': [2, 5, 10],\n",
    "        'clf__min_samples_leaf': [1, 2, 4]\n",
    "    },\n",
    "    \"Gradient Boosting Classifier\": {\n",
    "        'clf__n_estimators': [100, 200, 300],\n",
    "        'clf__learning_rate': [0.01, 0.1, 0.2],\n",
    "        'clf__max_depth': [3, 4, 5]\n",
    "    },\n",
    "    \"K-Neighbors Classifier\": {\n",
    "        'clf__n_neighbors': [3, 5, 7, 9],\n",
    "        'clf__weights': ['uniform', 'distance']\n",
    "    },\n",
    "    \"SVC\": {\n",
    "        'clf__C': [0.1, 1, 10],\n",
    "        'clf__gamma': [0.001, 0.01, 0.1, 1],\n",
    "        'clf__kernel': ['linear', 'rbf']\n",
    "    },\n",
    "    \"Logistic Regression\": {\n",
    "        'clf__C': [0.1, 1, 10],\n",
    "        'clf__solver': ['liblinear', 'lbfgs'],\n",
    "        'clf__penalty': ['l2']\n",
    "    }\n",
    "}"
   ]
  },
  {
   "cell_type": "code",
   "execution_count": 351,
   "metadata": {},
   "outputs": [
    {
     "data": {
      "text/html": [
       "<div>\n",
       "<style scoped>\n",
       "    .dataframe tbody tr th:only-of-type {\n",
       "        vertical-align: middle;\n",
       "    }\n",
       "\n",
       "    .dataframe tbody tr th {\n",
       "        vertical-align: top;\n",
       "    }\n",
       "\n",
       "    .dataframe thead th {\n",
       "        text-align: right;\n",
       "    }\n",
       "</style>\n",
       "<table border=\"1\" class=\"dataframe\">\n",
       "  <thead>\n",
       "    <tr style=\"text-align: right;\">\n",
       "      <th></th>\n",
       "      <th>Model</th>\n",
       "      <th>Best Params</th>\n",
       "      <th>Train Accuracy</th>\n",
       "      <th>Train Precision</th>\n",
       "      <th>Train Recall</th>\n",
       "      <th>Train F1 Score</th>\n",
       "      <th>Test Accuracy</th>\n",
       "      <th>Test Precision</th>\n",
       "      <th>Test Recall</th>\n",
       "      <th>Test F1 Score</th>\n",
       "      <th>Best F1 Score (Train)</th>\n",
       "    </tr>\n",
       "  </thead>\n",
       "  <tbody>\n",
       "    <tr>\n",
       "      <th>1</th>\n",
       "      <td>Random Forest Classifier</td>\n",
       "      <td>{'clf__max_depth': None, 'clf__min_samples_lea...</td>\n",
       "      <td>0.929766</td>\n",
       "      <td>0.929761</td>\n",
       "      <td>0.929766</td>\n",
       "      <td>0.929697</td>\n",
       "      <td>0.946667</td>\n",
       "      <td>0.948381</td>\n",
       "      <td>0.946667</td>\n",
       "      <td>0.945882</td>\n",
       "      <td>0.916167</td>\n",
       "    </tr>\n",
       "    <tr>\n",
       "      <th>2</th>\n",
       "      <td>Gradient Boosting Classifier</td>\n",
       "      <td>{'clf__learning_rate': 0.1, 'clf__max_depth': ...</td>\n",
       "      <td>0.929766</td>\n",
       "      <td>0.929761</td>\n",
       "      <td>0.929766</td>\n",
       "      <td>0.929697</td>\n",
       "      <td>0.946667</td>\n",
       "      <td>0.948381</td>\n",
       "      <td>0.946667</td>\n",
       "      <td>0.945882</td>\n",
       "      <td>0.906794</td>\n",
       "    </tr>\n",
       "    <tr>\n",
       "      <th>4</th>\n",
       "      <td>SVC</td>\n",
       "      <td>{'clf__C': 10, 'clf__gamma': 0.1, 'clf__kernel...</td>\n",
       "      <td>0.926421</td>\n",
       "      <td>0.926453</td>\n",
       "      <td>0.926421</td>\n",
       "      <td>0.926413</td>\n",
       "      <td>0.946667</td>\n",
       "      <td>0.948381</td>\n",
       "      <td>0.946667</td>\n",
       "      <td>0.945882</td>\n",
       "      <td>0.902284</td>\n",
       "    </tr>\n",
       "    <tr>\n",
       "      <th>3</th>\n",
       "      <td>K-Neighbors Classifier</td>\n",
       "      <td>{'clf__n_neighbors': 7, 'clf__weights': 'unifo...</td>\n",
       "      <td>0.889632</td>\n",
       "      <td>0.891903</td>\n",
       "      <td>0.889632</td>\n",
       "      <td>0.890468</td>\n",
       "      <td>0.933333</td>\n",
       "      <td>0.935667</td>\n",
       "      <td>0.933333</td>\n",
       "      <td>0.933314</td>\n",
       "      <td>0.871358</td>\n",
       "    </tr>\n",
       "    <tr>\n",
       "      <th>5</th>\n",
       "      <td>Logistic Regression</td>\n",
       "      <td>{'clf__C': 10, 'clf__penalty': 'l2', 'clf__sol...</td>\n",
       "      <td>0.906355</td>\n",
       "      <td>0.906434</td>\n",
       "      <td>0.906355</td>\n",
       "      <td>0.906300</td>\n",
       "      <td>0.906667</td>\n",
       "      <td>0.906570</td>\n",
       "      <td>0.906667</td>\n",
       "      <td>0.905955</td>\n",
       "      <td>0.881349</td>\n",
       "    </tr>\n",
       "    <tr>\n",
       "      <th>0</th>\n",
       "      <td>Decision Tree Classifier</td>\n",
       "      <td>{'clf__criterion': 'gini', 'clf__max_depth': 3...</td>\n",
       "      <td>0.919732</td>\n",
       "      <td>0.921867</td>\n",
       "      <td>0.919732</td>\n",
       "      <td>0.920086</td>\n",
       "      <td>0.893333</td>\n",
       "      <td>0.897941</td>\n",
       "      <td>0.893333</td>\n",
       "      <td>0.894265</td>\n",
       "      <td>0.893072</td>\n",
       "    </tr>\n",
       "  </tbody>\n",
       "</table>\n",
       "</div>"
      ],
      "text/plain": [
       "                          Model  \\\n",
       "1      Random Forest Classifier   \n",
       "2  Gradient Boosting Classifier   \n",
       "4                           SVC   \n",
       "3        K-Neighbors Classifier   \n",
       "5           Logistic Regression   \n",
       "0      Decision Tree Classifier   \n",
       "\n",
       "                                         Best Params  Train Accuracy  \\\n",
       "1  {'clf__max_depth': None, 'clf__min_samples_lea...        0.929766   \n",
       "2  {'clf__learning_rate': 0.1, 'clf__max_depth': ...        0.929766   \n",
       "4  {'clf__C': 10, 'clf__gamma': 0.1, 'clf__kernel...        0.926421   \n",
       "3  {'clf__n_neighbors': 7, 'clf__weights': 'unifo...        0.889632   \n",
       "5  {'clf__C': 10, 'clf__penalty': 'l2', 'clf__sol...        0.906355   \n",
       "0  {'clf__criterion': 'gini', 'clf__max_depth': 3...        0.919732   \n",
       "\n",
       "   Train Precision  Train Recall  Train F1 Score  Test Accuracy  \\\n",
       "1         0.929761      0.929766        0.929697       0.946667   \n",
       "2         0.929761      0.929766        0.929697       0.946667   \n",
       "4         0.926453      0.926421        0.926413       0.946667   \n",
       "3         0.891903      0.889632        0.890468       0.933333   \n",
       "5         0.906434      0.906355        0.906300       0.906667   \n",
       "0         0.921867      0.919732        0.920086       0.893333   \n",
       "\n",
       "   Test Precision  Test Recall  Test F1 Score  Best F1 Score (Train)  \n",
       "1        0.948381     0.946667       0.945882               0.916167  \n",
       "2        0.948381     0.946667       0.945882               0.906794  \n",
       "4        0.948381     0.946667       0.945882               0.902284  \n",
       "3        0.935667     0.933333       0.933314               0.871358  \n",
       "5        0.906570     0.906667       0.905955               0.881349  \n",
       "0        0.897941     0.893333       0.894265               0.893072  "
      ]
     },
     "execution_count": 351,
     "metadata": {},
     "output_type": "execute_result"
    }
   ],
   "source": [
    "tuned_results = []\n",
    "\n",
    "for name, model in classification_models.items():\n",
    "    # Create a pipeline\n",
    "    pipeline = Pipeline([\n",
    "        ('scaler', StandardScaler()),\n",
    "        ('clf', model)\n",
    "    ])\n",
    "    \n",
    "    param_grid = param_grids[name]\n",
    "    \n",
    "    # Initialize GridSearchCV\n",
    "    grid_search = GridSearchCV(pipeline, param_grid, cv=5, scoring='f1_weighted', n_jobs=-1)\n",
    "    \n",
    "    # Fit GridSearchCV\n",
    "    grid_search.fit(X_train, y_train)\n",
    "    \n",
    "    # Get the best parameters and best score\n",
    "    best_params = grid_search.best_params_\n",
    "    best_score = grid_search.best_score_\n",
    "    \n",
    "    # Predict on train and test data\n",
    "    y_train_pred1 = grid_search.best_estimator_.predict(X_train)\n",
    "    y_test_pred1 = grid_search.best_estimator_.predict(X_test)\n",
    "    \n",
    "    # Evaluate performance\n",
    "    train_metrics1 = evaluate_classification_model(y_train, y_train_pred1)\n",
    "    test_metrics1 = evaluate_classification_model(y_test, y_test_pred1)\n",
    "    \n",
    "    tuned_results.append({\n",
    "        'Model': name,\n",
    "        'Best Params': best_params,\n",
    "        'Train Accuracy': train_metrics1[0],\n",
    "        'Train Precision': train_metrics1[1],\n",
    "        'Train Recall': train_metrics1[2],\n",
    "        'Train F1 Score': train_metrics1[3],\n",
    "        'Test Accuracy': test_metrics1[0],\n",
    "        'Test Precision': test_metrics1[1],\n",
    "        'Test Recall': test_metrics1[2],\n",
    "        'Test F1 Score': test_metrics1[3],\n",
    "        'Best F1 Score (Train)': best_score\n",
    "    })\n",
    "\n",
    "# Creating DataFrame sorting based on Test F1 Score\n",
    "df_tuned_results = pd.DataFrame(tuned_results).sort_values(by='Test F1 Score', ascending=False)\n",
    "\n",
    "df_tuned_results\n"
   ]
  },
  {
   "cell_type": "code",
   "execution_count": 352,
   "metadata": {},
   "outputs": [
    {
     "data": {
      "application/vnd.plotly.v1+json": {
       "config": {
        "plotlyServerURL": "https://plot.ly"
       },
       "data": [
        {
         "alignmentgroup": "True",
         "hovertemplate": "<b>%{hovertext}</b><br><br>variable=Train Accuracy<br>Classification Model=%{x}<br>Score=%{y}<extra></extra>",
         "hovertext": [
          "Random Forest Classifier",
          "Gradient Boosting Classifier",
          "SVC",
          "K-Neighbors Classifier",
          "Logistic Regression",
          "Decision Tree Classifier"
         ],
         "legendgroup": "Train Accuracy",
         "marker": {
          "color": "#636efa",
          "pattern": {
           "shape": ""
          }
         },
         "name": "Train Accuracy",
         "offsetgroup": "Train Accuracy",
         "orientation": "v",
         "showlegend": true,
         "textposition": "auto",
         "texttemplate": "%{y}",
         "type": "bar",
         "x": [
          "Random Forest Classifier",
          "Gradient Boosting Classifier",
          "SVC",
          "K-Neighbors Classifier",
          "Logistic Regression",
          "Decision Tree Classifier"
         ],
         "xaxis": "x",
         "y": [
          0.9297658862876255,
          0.9297658862876255,
          0.9264214046822743,
          0.8896321070234113,
          0.9063545150501672,
          0.919732441471572
         ],
         "yaxis": "y"
        },
        {
         "alignmentgroup": "True",
         "hovertemplate": "<b>%{hovertext}</b><br><br>variable=Train Precision<br>Classification Model=%{x}<br>Score=%{y}<extra></extra>",
         "hovertext": [
          "Random Forest Classifier",
          "Gradient Boosting Classifier",
          "SVC",
          "K-Neighbors Classifier",
          "Logistic Regression",
          "Decision Tree Classifier"
         ],
         "legendgroup": "Train Precision",
         "marker": {
          "color": "#EF553B",
          "pattern": {
           "shape": ""
          }
         },
         "name": "Train Precision",
         "offsetgroup": "Train Precision",
         "orientation": "v",
         "showlegend": true,
         "textposition": "auto",
         "texttemplate": "%{y}",
         "type": "bar",
         "x": [
          "Random Forest Classifier",
          "Gradient Boosting Classifier",
          "SVC",
          "K-Neighbors Classifier",
          "Logistic Regression",
          "Decision Tree Classifier"
         ],
         "xaxis": "x",
         "y": [
          0.9297613686603572,
          0.9297613686603572,
          0.92645289697611,
          0.8919025026203995,
          0.9064336318193262,
          0.9218672335930389
         ],
         "yaxis": "y"
        },
        {
         "alignmentgroup": "True",
         "hovertemplate": "<b>%{hovertext}</b><br><br>variable=Train Recall<br>Classification Model=%{x}<br>Score=%{y}<extra></extra>",
         "hovertext": [
          "Random Forest Classifier",
          "Gradient Boosting Classifier",
          "SVC",
          "K-Neighbors Classifier",
          "Logistic Regression",
          "Decision Tree Classifier"
         ],
         "legendgroup": "Train Recall",
         "marker": {
          "color": "#00cc96",
          "pattern": {
           "shape": ""
          }
         },
         "name": "Train Recall",
         "offsetgroup": "Train Recall",
         "orientation": "v",
         "showlegend": true,
         "textposition": "auto",
         "texttemplate": "%{y}",
         "type": "bar",
         "x": [
          "Random Forest Classifier",
          "Gradient Boosting Classifier",
          "SVC",
          "K-Neighbors Classifier",
          "Logistic Regression",
          "Decision Tree Classifier"
         ],
         "xaxis": "x",
         "y": [
          0.9297658862876255,
          0.9297658862876255,
          0.9264214046822743,
          0.8896321070234113,
          0.9063545150501672,
          0.919732441471572
         ],
         "yaxis": "y"
        },
        {
         "alignmentgroup": "True",
         "hovertemplate": "<b>%{hovertext}</b><br><br>variable=Train F1 Score<br>Classification Model=%{x}<br>Score=%{y}<extra></extra>",
         "hovertext": [
          "Random Forest Classifier",
          "Gradient Boosting Classifier",
          "SVC",
          "K-Neighbors Classifier",
          "Logistic Regression",
          "Decision Tree Classifier"
         ],
         "legendgroup": "Train F1 Score",
         "marker": {
          "color": "#ab63fa",
          "pattern": {
           "shape": ""
          }
         },
         "name": "Train F1 Score",
         "offsetgroup": "Train F1 Score",
         "orientation": "v",
         "showlegend": true,
         "textposition": "auto",
         "texttemplate": "%{y}",
         "type": "bar",
         "x": [
          "Random Forest Classifier",
          "Gradient Boosting Classifier",
          "SVC",
          "K-Neighbors Classifier",
          "Logistic Regression",
          "Decision Tree Classifier"
         ],
         "xaxis": "x",
         "y": [
          0.929696662255848,
          0.929696662255848,
          0.9264126359573929,
          0.8904676394587622,
          0.9062996874828663,
          0.9200856137913503
         ],
         "yaxis": "y"
        },
        {
         "alignmentgroup": "True",
         "hovertemplate": "<b>%{hovertext}</b><br><br>variable=Test Accuracy<br>Classification Model=%{x}<br>Score=%{y}<extra></extra>",
         "hovertext": [
          "Random Forest Classifier",
          "Gradient Boosting Classifier",
          "SVC",
          "K-Neighbors Classifier",
          "Logistic Regression",
          "Decision Tree Classifier"
         ],
         "legendgroup": "Test Accuracy",
         "marker": {
          "color": "#FFA15A",
          "pattern": {
           "shape": ""
          }
         },
         "name": "Test Accuracy",
         "offsetgroup": "Test Accuracy",
         "orientation": "v",
         "showlegend": true,
         "textposition": "auto",
         "texttemplate": "%{y}",
         "type": "bar",
         "x": [
          "Random Forest Classifier",
          "Gradient Boosting Classifier",
          "SVC",
          "K-Neighbors Classifier",
          "Logistic Regression",
          "Decision Tree Classifier"
         ],
         "xaxis": "x",
         "y": [
          0.9466666666666667,
          0.9466666666666667,
          0.9466666666666667,
          0.9333333333333333,
          0.9066666666666666,
          0.8933333333333333
         ],
         "yaxis": "y"
        },
        {
         "alignmentgroup": "True",
         "hovertemplate": "<b>%{hovertext}</b><br><br>variable=Test Precision<br>Classification Model=%{x}<br>Score=%{y}<extra></extra>",
         "hovertext": [
          "Random Forest Classifier",
          "Gradient Boosting Classifier",
          "SVC",
          "K-Neighbors Classifier",
          "Logistic Regression",
          "Decision Tree Classifier"
         ],
         "legendgroup": "Test Precision",
         "marker": {
          "color": "#19d3f3",
          "pattern": {
           "shape": ""
          }
         },
         "name": "Test Precision",
         "offsetgroup": "Test Precision",
         "orientation": "v",
         "showlegend": true,
         "textposition": "auto",
         "texttemplate": "%{y}",
         "type": "bar",
         "x": [
          "Random Forest Classifier",
          "Gradient Boosting Classifier",
          "SVC",
          "K-Neighbors Classifier",
          "Logistic Regression",
          "Decision Tree Classifier"
         ],
         "xaxis": "x",
         "y": [
          0.9483809523809524,
          0.9483809523809524,
          0.9483809523809524,
          0.9356670746634027,
          0.9065699006875477,
          0.8979411764705882
         ],
         "yaxis": "y"
        },
        {
         "alignmentgroup": "True",
         "hovertemplate": "<b>%{hovertext}</b><br><br>variable=Test Recall<br>Classification Model=%{x}<br>Score=%{y}<extra></extra>",
         "hovertext": [
          "Random Forest Classifier",
          "Gradient Boosting Classifier",
          "SVC",
          "K-Neighbors Classifier",
          "Logistic Regression",
          "Decision Tree Classifier"
         ],
         "legendgroup": "Test Recall",
         "marker": {
          "color": "#FF6692",
          "pattern": {
           "shape": ""
          }
         },
         "name": "Test Recall",
         "offsetgroup": "Test Recall",
         "orientation": "v",
         "showlegend": true,
         "textposition": "auto",
         "texttemplate": "%{y}",
         "type": "bar",
         "x": [
          "Random Forest Classifier",
          "Gradient Boosting Classifier",
          "SVC",
          "K-Neighbors Classifier",
          "Logistic Regression",
          "Decision Tree Classifier"
         ],
         "xaxis": "x",
         "y": [
          0.9466666666666667,
          0.9466666666666667,
          0.9466666666666667,
          0.9333333333333333,
          0.9066666666666666,
          0.8933333333333333
         ],
         "yaxis": "y"
        },
        {
         "alignmentgroup": "True",
         "hovertemplate": "<b>%{hovertext}</b><br><br>variable=Test F1 Score<br>Classification Model=%{x}<br>Score=%{y}<extra></extra>",
         "hovertext": [
          "Random Forest Classifier",
          "Gradient Boosting Classifier",
          "SVC",
          "K-Neighbors Classifier",
          "Logistic Regression",
          "Decision Tree Classifier"
         ],
         "legendgroup": "Test F1 Score",
         "marker": {
          "color": "#B6E880",
          "pattern": {
           "shape": ""
          }
         },
         "name": "Test F1 Score",
         "offsetgroup": "Test F1 Score",
         "orientation": "v",
         "showlegend": true,
         "textposition": "auto",
         "texttemplate": "%{y}",
         "type": "bar",
         "x": [
          "Random Forest Classifier",
          "Gradient Boosting Classifier",
          "SVC",
          "K-Neighbors Classifier",
          "Logistic Regression",
          "Decision Tree Classifier"
         ],
         "xaxis": "x",
         "y": [
          0.9458823529411766,
          0.9458823529411766,
          0.9458823529411766,
          0.9333136497842379,
          0.9059548631000115,
          0.8942647058823529
         ],
         "yaxis": "y"
        }
       ],
       "layout": {
        "barmode": "group",
        "hovermode": "x unified",
        "legend": {
         "title": {
          "text": "Metrics"
         },
         "tracegroupgap": 0
        },
        "template": {
         "data": {
          "bar": [
           {
            "error_x": {
             "color": "#2a3f5f"
            },
            "error_y": {
             "color": "#2a3f5f"
            },
            "marker": {
             "line": {
              "color": "white",
              "width": 0.5
             },
             "pattern": {
              "fillmode": "overlay",
              "size": 10,
              "solidity": 0.2
             }
            },
            "type": "bar"
           }
          ],
          "barpolar": [
           {
            "marker": {
             "line": {
              "color": "white",
              "width": 0.5
             },
             "pattern": {
              "fillmode": "overlay",
              "size": 10,
              "solidity": 0.2
             }
            },
            "type": "barpolar"
           }
          ],
          "carpet": [
           {
            "aaxis": {
             "endlinecolor": "#2a3f5f",
             "gridcolor": "#C8D4E3",
             "linecolor": "#C8D4E3",
             "minorgridcolor": "#C8D4E3",
             "startlinecolor": "#2a3f5f"
            },
            "baxis": {
             "endlinecolor": "#2a3f5f",
             "gridcolor": "#C8D4E3",
             "linecolor": "#C8D4E3",
             "minorgridcolor": "#C8D4E3",
             "startlinecolor": "#2a3f5f"
            },
            "type": "carpet"
           }
          ],
          "choropleth": [
           {
            "colorbar": {
             "outlinewidth": 0,
             "ticks": ""
            },
            "type": "choropleth"
           }
          ],
          "contour": [
           {
            "colorbar": {
             "outlinewidth": 0,
             "ticks": ""
            },
            "colorscale": [
             [
              0,
              "#0d0887"
             ],
             [
              0.1111111111111111,
              "#46039f"
             ],
             [
              0.2222222222222222,
              "#7201a8"
             ],
             [
              0.3333333333333333,
              "#9c179e"
             ],
             [
              0.4444444444444444,
              "#bd3786"
             ],
             [
              0.5555555555555556,
              "#d8576b"
             ],
             [
              0.6666666666666666,
              "#ed7953"
             ],
             [
              0.7777777777777778,
              "#fb9f3a"
             ],
             [
              0.8888888888888888,
              "#fdca26"
             ],
             [
              1,
              "#f0f921"
             ]
            ],
            "type": "contour"
           }
          ],
          "contourcarpet": [
           {
            "colorbar": {
             "outlinewidth": 0,
             "ticks": ""
            },
            "type": "contourcarpet"
           }
          ],
          "heatmap": [
           {
            "colorbar": {
             "outlinewidth": 0,
             "ticks": ""
            },
            "colorscale": [
             [
              0,
              "#0d0887"
             ],
             [
              0.1111111111111111,
              "#46039f"
             ],
             [
              0.2222222222222222,
              "#7201a8"
             ],
             [
              0.3333333333333333,
              "#9c179e"
             ],
             [
              0.4444444444444444,
              "#bd3786"
             ],
             [
              0.5555555555555556,
              "#d8576b"
             ],
             [
              0.6666666666666666,
              "#ed7953"
             ],
             [
              0.7777777777777778,
              "#fb9f3a"
             ],
             [
              0.8888888888888888,
              "#fdca26"
             ],
             [
              1,
              "#f0f921"
             ]
            ],
            "type": "heatmap"
           }
          ],
          "heatmapgl": [
           {
            "colorbar": {
             "outlinewidth": 0,
             "ticks": ""
            },
            "colorscale": [
             [
              0,
              "#0d0887"
             ],
             [
              0.1111111111111111,
              "#46039f"
             ],
             [
              0.2222222222222222,
              "#7201a8"
             ],
             [
              0.3333333333333333,
              "#9c179e"
             ],
             [
              0.4444444444444444,
              "#bd3786"
             ],
             [
              0.5555555555555556,
              "#d8576b"
             ],
             [
              0.6666666666666666,
              "#ed7953"
             ],
             [
              0.7777777777777778,
              "#fb9f3a"
             ],
             [
              0.8888888888888888,
              "#fdca26"
             ],
             [
              1,
              "#f0f921"
             ]
            ],
            "type": "heatmapgl"
           }
          ],
          "histogram": [
           {
            "marker": {
             "pattern": {
              "fillmode": "overlay",
              "size": 10,
              "solidity": 0.2
             }
            },
            "type": "histogram"
           }
          ],
          "histogram2d": [
           {
            "colorbar": {
             "outlinewidth": 0,
             "ticks": ""
            },
            "colorscale": [
             [
              0,
              "#0d0887"
             ],
             [
              0.1111111111111111,
              "#46039f"
             ],
             [
              0.2222222222222222,
              "#7201a8"
             ],
             [
              0.3333333333333333,
              "#9c179e"
             ],
             [
              0.4444444444444444,
              "#bd3786"
             ],
             [
              0.5555555555555556,
              "#d8576b"
             ],
             [
              0.6666666666666666,
              "#ed7953"
             ],
             [
              0.7777777777777778,
              "#fb9f3a"
             ],
             [
              0.8888888888888888,
              "#fdca26"
             ],
             [
              1,
              "#f0f921"
             ]
            ],
            "type": "histogram2d"
           }
          ],
          "histogram2dcontour": [
           {
            "colorbar": {
             "outlinewidth": 0,
             "ticks": ""
            },
            "colorscale": [
             [
              0,
              "#0d0887"
             ],
             [
              0.1111111111111111,
              "#46039f"
             ],
             [
              0.2222222222222222,
              "#7201a8"
             ],
             [
              0.3333333333333333,
              "#9c179e"
             ],
             [
              0.4444444444444444,
              "#bd3786"
             ],
             [
              0.5555555555555556,
              "#d8576b"
             ],
             [
              0.6666666666666666,
              "#ed7953"
             ],
             [
              0.7777777777777778,
              "#fb9f3a"
             ],
             [
              0.8888888888888888,
              "#fdca26"
             ],
             [
              1,
              "#f0f921"
             ]
            ],
            "type": "histogram2dcontour"
           }
          ],
          "mesh3d": [
           {
            "colorbar": {
             "outlinewidth": 0,
             "ticks": ""
            },
            "type": "mesh3d"
           }
          ],
          "parcoords": [
           {
            "line": {
             "colorbar": {
              "outlinewidth": 0,
              "ticks": ""
             }
            },
            "type": "parcoords"
           }
          ],
          "pie": [
           {
            "automargin": true,
            "type": "pie"
           }
          ],
          "scatter": [
           {
            "fillpattern": {
             "fillmode": "overlay",
             "size": 10,
             "solidity": 0.2
            },
            "type": "scatter"
           }
          ],
          "scatter3d": [
           {
            "line": {
             "colorbar": {
              "outlinewidth": 0,
              "ticks": ""
             }
            },
            "marker": {
             "colorbar": {
              "outlinewidth": 0,
              "ticks": ""
             }
            },
            "type": "scatter3d"
           }
          ],
          "scattercarpet": [
           {
            "marker": {
             "colorbar": {
              "outlinewidth": 0,
              "ticks": ""
             }
            },
            "type": "scattercarpet"
           }
          ],
          "scattergeo": [
           {
            "marker": {
             "colorbar": {
              "outlinewidth": 0,
              "ticks": ""
             }
            },
            "type": "scattergeo"
           }
          ],
          "scattergl": [
           {
            "marker": {
             "colorbar": {
              "outlinewidth": 0,
              "ticks": ""
             }
            },
            "type": "scattergl"
           }
          ],
          "scattermapbox": [
           {
            "marker": {
             "colorbar": {
              "outlinewidth": 0,
              "ticks": ""
             }
            },
            "type": "scattermapbox"
           }
          ],
          "scatterpolar": [
           {
            "marker": {
             "colorbar": {
              "outlinewidth": 0,
              "ticks": ""
             }
            },
            "type": "scatterpolar"
           }
          ],
          "scatterpolargl": [
           {
            "marker": {
             "colorbar": {
              "outlinewidth": 0,
              "ticks": ""
             }
            },
            "type": "scatterpolargl"
           }
          ],
          "scatterternary": [
           {
            "marker": {
             "colorbar": {
              "outlinewidth": 0,
              "ticks": ""
             }
            },
            "type": "scatterternary"
           }
          ],
          "surface": [
           {
            "colorbar": {
             "outlinewidth": 0,
             "ticks": ""
            },
            "colorscale": [
             [
              0,
              "#0d0887"
             ],
             [
              0.1111111111111111,
              "#46039f"
             ],
             [
              0.2222222222222222,
              "#7201a8"
             ],
             [
              0.3333333333333333,
              "#9c179e"
             ],
             [
              0.4444444444444444,
              "#bd3786"
             ],
             [
              0.5555555555555556,
              "#d8576b"
             ],
             [
              0.6666666666666666,
              "#ed7953"
             ],
             [
              0.7777777777777778,
              "#fb9f3a"
             ],
             [
              0.8888888888888888,
              "#fdca26"
             ],
             [
              1,
              "#f0f921"
             ]
            ],
            "type": "surface"
           }
          ],
          "table": [
           {
            "cells": {
             "fill": {
              "color": "#EBF0F8"
             },
             "line": {
              "color": "white"
             }
            },
            "header": {
             "fill": {
              "color": "#C8D4E3"
             },
             "line": {
              "color": "white"
             }
            },
            "type": "table"
           }
          ]
         },
         "layout": {
          "annotationdefaults": {
           "arrowcolor": "#2a3f5f",
           "arrowhead": 0,
           "arrowwidth": 1
          },
          "autotypenumbers": "strict",
          "coloraxis": {
           "colorbar": {
            "outlinewidth": 0,
            "ticks": ""
           }
          },
          "colorscale": {
           "diverging": [
            [
             0,
             "#8e0152"
            ],
            [
             0.1,
             "#c51b7d"
            ],
            [
             0.2,
             "#de77ae"
            ],
            [
             0.3,
             "#f1b6da"
            ],
            [
             0.4,
             "#fde0ef"
            ],
            [
             0.5,
             "#f7f7f7"
            ],
            [
             0.6,
             "#e6f5d0"
            ],
            [
             0.7,
             "#b8e186"
            ],
            [
             0.8,
             "#7fbc41"
            ],
            [
             0.9,
             "#4d9221"
            ],
            [
             1,
             "#276419"
            ]
           ],
           "sequential": [
            [
             0,
             "#0d0887"
            ],
            [
             0.1111111111111111,
             "#46039f"
            ],
            [
             0.2222222222222222,
             "#7201a8"
            ],
            [
             0.3333333333333333,
             "#9c179e"
            ],
            [
             0.4444444444444444,
             "#bd3786"
            ],
            [
             0.5555555555555556,
             "#d8576b"
            ],
            [
             0.6666666666666666,
             "#ed7953"
            ],
            [
             0.7777777777777778,
             "#fb9f3a"
            ],
            [
             0.8888888888888888,
             "#fdca26"
            ],
            [
             1,
             "#f0f921"
            ]
           ],
           "sequentialminus": [
            [
             0,
             "#0d0887"
            ],
            [
             0.1111111111111111,
             "#46039f"
            ],
            [
             0.2222222222222222,
             "#7201a8"
            ],
            [
             0.3333333333333333,
             "#9c179e"
            ],
            [
             0.4444444444444444,
             "#bd3786"
            ],
            [
             0.5555555555555556,
             "#d8576b"
            ],
            [
             0.6666666666666666,
             "#ed7953"
            ],
            [
             0.7777777777777778,
             "#fb9f3a"
            ],
            [
             0.8888888888888888,
             "#fdca26"
            ],
            [
             1,
             "#f0f921"
            ]
           ]
          },
          "colorway": [
           "#636efa",
           "#EF553B",
           "#00cc96",
           "#ab63fa",
           "#FFA15A",
           "#19d3f3",
           "#FF6692",
           "#B6E880",
           "#FF97FF",
           "#FECB52"
          ],
          "font": {
           "color": "#2a3f5f"
          },
          "geo": {
           "bgcolor": "white",
           "lakecolor": "white",
           "landcolor": "white",
           "showlakes": true,
           "showland": true,
           "subunitcolor": "#C8D4E3"
          },
          "hoverlabel": {
           "align": "left"
          },
          "hovermode": "closest",
          "mapbox": {
           "style": "light"
          },
          "paper_bgcolor": "white",
          "plot_bgcolor": "white",
          "polar": {
           "angularaxis": {
            "gridcolor": "#EBF0F8",
            "linecolor": "#EBF0F8",
            "ticks": ""
           },
           "bgcolor": "white",
           "radialaxis": {
            "gridcolor": "#EBF0F8",
            "linecolor": "#EBF0F8",
            "ticks": ""
           }
          },
          "scene": {
           "xaxis": {
            "backgroundcolor": "white",
            "gridcolor": "#DFE8F3",
            "gridwidth": 2,
            "linecolor": "#EBF0F8",
            "showbackground": true,
            "ticks": "",
            "zerolinecolor": "#EBF0F8"
           },
           "yaxis": {
            "backgroundcolor": "white",
            "gridcolor": "#DFE8F3",
            "gridwidth": 2,
            "linecolor": "#EBF0F8",
            "showbackground": true,
            "ticks": "",
            "zerolinecolor": "#EBF0F8"
           },
           "zaxis": {
            "backgroundcolor": "white",
            "gridcolor": "#DFE8F3",
            "gridwidth": 2,
            "linecolor": "#EBF0F8",
            "showbackground": true,
            "ticks": "",
            "zerolinecolor": "#EBF0F8"
           }
          },
          "shapedefaults": {
           "line": {
            "color": "#2a3f5f"
           }
          },
          "ternary": {
           "aaxis": {
            "gridcolor": "#DFE8F3",
            "linecolor": "#A2B1C6",
            "ticks": ""
           },
           "baxis": {
            "gridcolor": "#DFE8F3",
            "linecolor": "#A2B1C6",
            "ticks": ""
           },
           "bgcolor": "white",
           "caxis": {
            "gridcolor": "#DFE8F3",
            "linecolor": "#A2B1C6",
            "ticks": ""
           }
          },
          "title": {
           "x": 0.05
          },
          "xaxis": {
           "automargin": true,
           "gridcolor": "#EBF0F8",
           "linecolor": "#EBF0F8",
           "ticks": "",
           "title": {
            "standoff": 15
           },
           "zerolinecolor": "#EBF0F8",
           "zerolinewidth": 2
          },
          "yaxis": {
           "automargin": true,
           "gridcolor": "#EBF0F8",
           "linecolor": "#EBF0F8",
           "ticks": "",
           "title": {
            "standoff": 15
           },
           "zerolinecolor": "#EBF0F8",
           "zerolinewidth": 2
          }
         }
        },
        "title": {
         "text": "Model Evaluation Metrics"
        },
        "xaxis": {
         "anchor": "y",
         "domain": [
          0,
          1
         ],
         "tickangle": -45,
         "title": {
          "text": "Classification Model"
         }
        },
        "yaxis": {
         "anchor": "x",
         "domain": [
          0,
          1
         ],
         "title": {
          "text": "Score"
         }
        }
       }
      }
     },
     "metadata": {},
     "output_type": "display_data"
    }
   ],
   "source": [
    "fig = px.bar(df_tuned_results, \n",
    "             x='Model', \n",
    "             y=['Train Accuracy', 'Train Precision', 'Train Recall', 'Train F1 Score', \n",
    "                'Test Accuracy', 'Test Precision', 'Test Recall', 'Test F1 Score'],\n",
    "             title='Model Evaluation Metrics',\n",
    "             labels={'value': 'Score', 'Model': 'Classification Model'},\n",
    "             hover_name='Model',\n",
    "             text_auto=True,\n",
    "             barmode='group')\n",
    "\n",
    "fig.update_layout(\n",
    "    xaxis_title='Classification Model',\n",
    "    yaxis_title='Score',\n",
    "    xaxis_tickangle=-45,\n",
    "    legend_title='Metrics',\n",
    "    hovermode='x unified',\n",
    "    template='plotly_white'\n",
    ")\n",
    "\n",
    "fig.show()"
   ]
  },
  {
   "cell_type": "markdown",
   "metadata": {},
   "source": [
    "### 5.3 Model Performance Summary"
   ]
  },
  {
   "cell_type": "markdown",
   "metadata": {},
   "source": [
    "#### 5.3.1 Top Performers\n",
    "- **Random Forest Classifier**\n",
    "- **Gradient Boosting Classifier**\n",
    "\n",
    "Both models excel with:\n",
    "- **Test Accuracy:** 94.67%\n",
    "- **Precision:** 94.84%\n",
    "- **Recall:** 94.67%\n",
    "- **F1 Score:** Highest among models\n",
    "\n",
    "These models are effective at distinguishing classes and handle class imbalance well. They also generalize well to new data without overfitting."
   ]
  },
  {
   "cell_type": "markdown",
   "metadata": {},
   "source": [
    "#### 5.3.2 Balanced Performance\n",
    "- **Consistent Results:** Both Random Forest and Gradient Boosting show strong performance across training and testing datasets."
   ]
  },
  {
   "cell_type": "markdown",
   "metadata": {},
   "source": [
    "#### 5.3.3 Good but Slightly Weaker Models\n",
    "- **K-Neighbors Classifier**\n",
    "- **SVC**\n",
    "\n",
    "While competitive, these models have:\n",
    "- **Lower Accuracy and F1 Score** than the top performers."
   ]
  },
  {
   "cell_type": "markdown",
   "metadata": {},
   "source": [
    "#### 5.3.4 Lowest Performers\n",
    "- **Decision Tree Classifier**\n",
    "- **Logistic Regression**\n",
    "\n",
    "- **Decision Tree:** Decent performance but lower F1 Score.\n",
    "- **Logistic Regression:** Lowest F1 Score despite competitive accuracy."
   ]
  },
  {
   "cell_type": "markdown",
   "metadata": {},
   "source": [
    "#### 5.3.5 Overall Recommendation\n",
    "- **For balanced performance and high accuracy:** Use Random Forest or Gradient Boosting.\n",
    "- **For model interpretability and simplicity:** Consider Decision Trees or Logistic Regression, but note they may not balance precision and recall as well."
   ]
  }
 ],
 "metadata": {
  "kernelspec": {
   "display_name": ".venv",
   "language": "python",
   "name": "python3"
  },
  "language_info": {
   "codemirror_mode": {
    "name": "ipython",
    "version": 3
   },
   "file_extension": ".py",
   "mimetype": "text/x-python",
   "name": "python",
   "nbconvert_exporter": "python",
   "pygments_lexer": "ipython3",
   "version": "3.12.5"
  }
 },
 "nbformat": 4,
 "nbformat_minor": 2
}
